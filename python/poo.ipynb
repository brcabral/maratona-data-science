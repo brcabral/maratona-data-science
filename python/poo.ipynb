{
 "cells": [
  {
   "cell_type": "markdown",
   "id": "e6f2f5ce",
   "metadata": {},
   "source": [
    "# Programação orientada a objetos (POO)"
   ]
  },
  {
   "cell_type": "markdown",
   "id": "69ccaecb",
   "metadata": {},
   "source": [
    "## Classes"
   ]
  },
  {
   "cell_type": "code",
   "execution_count": 1,
   "id": "79d1b963",
   "metadata": {},
   "outputs": [],
   "source": [
    "# Classes\n",
    "class Carro:\n",
    "    pass"
   ]
  },
  {
   "cell_type": "code",
   "execution_count": 3,
   "id": "ba50338f",
   "metadata": {},
   "outputs": [
    {
     "name": "stdout",
     "output_type": "stream",
     "text": [
      "Breno\n"
     ]
    }
   ],
   "source": [
    "# Criando uma classe\n",
    "class Pessoa:\n",
    "    def __init__(self, nome, idade):\n",
    "        self.nome = nome\n",
    "        self.idade = idade\n",
    "\n",
    "p1 = Pessoa(\"Breno\", 36)\n",
    "print(p1.nome)"
   ]
  },
  {
   "cell_type": "code",
   "execution_count": 4,
   "id": "f1f3c462",
   "metadata": {},
   "outputs": [
    {
     "data": {
      "text/plain": [
       "'Breno'"
      ]
     },
     "execution_count": 4,
     "metadata": {},
     "output_type": "execute_result"
    }
   ],
   "source": [
    "# Atributo getter\n",
    "getattr(p1, \"nome\")"
   ]
  },
  {
   "cell_type": "code",
   "execution_count": 5,
   "id": "3d576810",
   "metadata": {},
   "outputs": [
    {
     "name": "stdout",
     "output_type": "stream",
     "text": [
      "brcabral\n"
     ]
    }
   ],
   "source": [
    "# Atributo setter\n",
    "setattr(p1, \"nome\", \"brcabral\")\n",
    "print(p1.nome)"
   ]
  },
  {
   "cell_type": "markdown",
   "id": "954fd34c",
   "metadata": {},
   "source": [
    "## Objeto"
   ]
  },
  {
   "cell_type": "code",
   "execution_count": 7,
   "id": "fe2020e6",
   "metadata": {},
   "outputs": [
    {
     "name": "stdout",
     "output_type": "stream",
     "text": [
      "<__main__.Carro object at 0x7fecd05808e0>\n"
     ]
    }
   ],
   "source": [
    "# Objetos são instâncias de uma classe\n",
    "fusca = Carro()\n",
    "print(fusca)"
   ]
  },
  {
   "cell_type": "markdown",
   "id": "33daf56e",
   "metadata": {},
   "source": [
    "**OBS:** Todos os tipos de dados em Python são objetos.\n",
    "Listas, inteiros, floating, booleanos e strings são classes.\n",
    "Ao utilizarmos o dir() recebemos a lista de seus métodos e funções"
   ]
  },
  {
   "cell_type": "code",
   "execution_count": 8,
   "id": "9eeb60c5",
   "metadata": {},
   "outputs": [
    {
     "name": "stdout",
     "output_type": "stream",
     "text": [
      "<class 'list'>\n"
     ]
    }
   ],
   "source": [
    "# A variável abaixo é uma instância da classe list\n",
    "lista = [1, 2, 3, 4, 5]\n",
    "print(type(lista))"
   ]
  },
  {
   "cell_type": "code",
   "execution_count": 9,
   "id": "3965aed1",
   "metadata": {},
   "outputs": [],
   "source": [
    "# Atributos e o método __init__ (construtor)\n",
    "class Carro:\n",
    "    def __init__(self, rodas, tanque, bancos, velocidade):\n",
    "        self.rodas = rodas\n",
    "        self.tanque = tanque\n",
    "        self.bancos = bancos\n",
    "        self.velocidade = velocidade"
   ]
  },
  {
   "cell_type": "code",
   "execution_count": 10,
   "id": "7c86e8ba",
   "metadata": {},
   "outputs": [],
   "source": [
    "# Criando um objeto com atributos\n",
    "tesla = Carro(4, \"200 listros\", 5, \"250 km/h\")"
   ]
  },
  {
   "cell_type": "code",
   "execution_count": 11,
   "id": "a0d4bfaa",
   "metadata": {},
   "outputs": [
    {
     "name": "stdout",
     "output_type": "stream",
     "text": [
      "O veículo possui 4 rodas, tanque com capacidade de até 200 listros, 5 assentos e velocidade de até 250 km/h\n"
     ]
    }
   ],
   "source": [
    "# Acessando valores\n",
    "print(f\"O veículo possui {tesla.rodas} rodas, tanque com capacidade de até {tesla.tanque}, {tesla.bancos} assentos e velocidade de até {tesla.velocidade}\")"
   ]
  },
  {
   "cell_type": "code",
   "execution_count": 14,
   "id": "4710fbdf",
   "metadata": {},
   "outputs": [
    {
     "name": "stdout",
     "output_type": "stream",
     "text": [
      "2\n"
     ]
    }
   ],
   "source": [
    "# Alterando valores\n",
    "tesla.rodas = 2\n",
    "print(tesla.rodas)"
   ]
  },
  {
   "cell_type": "markdown",
   "id": "62cffafc",
   "metadata": {},
   "source": [
    "## Métodos"
   ]
  },
  {
   "cell_type": "code",
   "execution_count": 15,
   "id": "587a0153",
   "metadata": {},
   "outputs": [],
   "source": [
    "# Criando métodos com valor default\n",
    "class Turista():\n",
    "    def __init__(self, nome, nacionalidade = \"brasileira\"):\n",
    "        self.nome = nome\n",
    "        self.nacionalidade = nacionalidade"
   ]
  },
  {
   "cell_type": "code",
   "execution_count": 16,
   "id": "591256a7",
   "metadata": {},
   "outputs": [],
   "source": [
    "# Criando diversos métodos para uma mesma classe\n",
    "class Turista():\n",
    "    def __init__(self, nome, nacionalidade = \"brasileira\"):\n",
    "        self.nome = nome\n",
    "        self.nacionalidade = nacionalidade\n",
    "        \n",
    "    def ConfigNome(self, novo_nome):\n",
    "        self.nome = novo_nome\n",
    "        \n",
    "    def ConfigNacionalidade(self, nova_nacionalidade):\n",
    "        self.nacionalidade = nova_nacionalidade"
   ]
  },
  {
   "cell_type": "code",
   "execution_count": 17,
   "id": "17aff541",
   "metadata": {},
   "outputs": [
    {
     "name": "stdout",
     "output_type": "stream",
     "text": [
      "Icaro brasileira\n"
     ]
    }
   ],
   "source": [
    "t1 = Turista(\"Icaro\")\n",
    "print(t1.nome, t1.nacionalidade)"
   ]
  },
  {
   "cell_type": "code",
   "execution_count": 18,
   "id": "d0333fee",
   "metadata": {},
   "outputs": [
    {
     "name": "stdout",
     "output_type": "stream",
     "text": [
      "Icaro Grego\n"
     ]
    }
   ],
   "source": [
    "t1.ConfigNacionalidade(\"Grego\")\n",
    "print(t1.nome, t1.nacionalidade)"
   ]
  },
  {
   "cell_type": "markdown",
   "id": "610932bd",
   "metadata": {},
   "source": [
    "## Herança\n",
    "Ao criar uma nova classe você pode \"herdar\" os atributos de outra classe."
   ]
  },
  {
   "cell_type": "code",
   "execution_count": 19,
   "id": "5422533c",
   "metadata": {},
   "outputs": [
    {
     "name": "stdout",
     "output_type": "stream",
     "text": [
      "4\n"
     ]
    }
   ],
   "source": [
    "# Classe carro\n",
    "class Carro:\n",
    "    def __init__(self, rodas, tanque, bancos, velocidade):\n",
    "        self.rodas = rodas\n",
    "        self.tanque = tanque\n",
    "        self.bancos = bancos\n",
    "        self.velocidade = velocidade\n",
    "\n",
    "# Classe carro elétrico\n",
    "class CarroEletrico:\n",
    "    def __init__(self, rodas, tanque, bancos, velocidade):\n",
    "        Carro.__init__(self, rodas, tanque, bancos, velocidade)\n",
    "\n",
    "carrinho = CarroEletrico(4, \"100 litros\", 5, \"180 km/h\")\n",
    "print(carrinho.rodas)"
   ]
  },
  {
   "cell_type": "markdown",
   "id": "333c66a5",
   "metadata": {},
   "source": [
    "## Diferença entre métodos e funções\n",
    "**Função:** Bloco para realizar uma tarefa específica, podendo ou não retornar valores.<br>\n",
    "**Método:** Características semelhantes as funções, porém tem que estar sempre associado a uma classe/objeto."
   ]
  },
  {
   "cell_type": "code",
   "execution_count": 20,
   "id": "efcd4f57",
   "metadata": {},
   "outputs": [
    {
     "data": {
      "text/plain": [
       "2"
      ]
     },
     "execution_count": 20,
     "metadata": {},
     "output_type": "execute_result"
    }
   ],
   "source": [
    "# Função\n",
    "def soma(n1, n2):\n",
    "    return(n1 + n2)\n",
    "soma(1, 1)"
   ]
  },
  {
   "cell_type": "code",
   "execution_count": 21,
   "id": "cbda5b44",
   "metadata": {},
   "outputs": [
    {
     "name": "stdout",
     "output_type": "stream",
     "text": [
      "Eu sou um método\n"
     ]
    }
   ],
   "source": [
    "# Método\n",
    "class Metodo(object):\n",
    "    def metod(self):\n",
    "        print(\"Eu sou um método\")\n",
    "\n",
    "m1 = Metodo()\n",
    "m1.metod()"
   ]
  }
 ],
 "metadata": {
  "kernelspec": {
   "display_name": "Python 3 (ipykernel)",
   "language": "python",
   "name": "python3"
  },
  "language_info": {
   "codemirror_mode": {
    "name": "ipython",
    "version": 3
   },
   "file_extension": ".py",
   "mimetype": "text/x-python",
   "name": "python",
   "nbconvert_exporter": "python",
   "pygments_lexer": "ipython3",
   "version": "3.9.7"
  }
 },
 "nbformat": 4,
 "nbformat_minor": 5
}
