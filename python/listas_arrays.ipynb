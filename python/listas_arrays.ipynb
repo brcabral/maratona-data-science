{
 "cells": [
  {
   "cell_type": "markdown",
   "id": "45e148d9",
   "metadata": {},
   "source": [
    "## **Listas e Arrays**"
   ]
  },
  {
   "cell_type": "code",
   "execution_count": 43,
   "id": "0a44c5fa",
   "metadata": {},
   "outputs": [
    {
     "name": "stdout",
     "output_type": "stream",
     "text": [
      "<class 'list'>\n"
     ]
    }
   ],
   "source": [
    "livros = [\"Data Science em 12 semanas\", \"Startup Enxuta\", \"Desperte seu Gigante Interior\"]\n",
    "print(type(livros))"
   ]
  },
  {
   "cell_type": "code",
   "execution_count": 44,
   "id": "1c451b21",
   "metadata": {},
   "outputs": [
    {
     "name": "stdout",
     "output_type": "stream",
     "text": [
      "Data Science em 12 semanas\n"
     ]
    }
   ],
   "source": [
    "# Slicing / fatiamento\n",
    "print(livros[0])"
   ]
  },
  {
   "cell_type": "code",
   "execution_count": 45,
   "id": "e75786b6",
   "metadata": {},
   "outputs": [
    {
     "name": "stdout",
     "output_type": "stream",
     "text": [
      "['Data Science em 12 semanas', 'Startup Enxuta', 'Desperte seu Gigante Interior', 'Pé na Estrada']\n"
     ]
    }
   ],
   "source": [
    "# Método append\n",
    "livros.append(\"Pé na Estrada\")\n",
    "print(livros)"
   ]
  },
  {
   "cell_type": "code",
   "execution_count": 46,
   "id": "49419819",
   "metadata": {},
   "outputs": [
    {
     "name": "stdout",
     "output_type": "stream",
     "text": [
      "1\n"
     ]
    }
   ],
   "source": [
    "# Função count() conta o número de aparições do elemento na lista\n",
    "x = [1, 2, 3, 4, 5, 6, 7, 8, 9, 10]\n",
    "print(x.count(10))"
   ]
  },
  {
   "cell_type": "code",
   "execution_count": 47,
   "id": "15d9072d",
   "metadata": {},
   "outputs": [
    {
     "data": {
      "text/plain": [
       "4"
      ]
     },
     "execution_count": 47,
     "metadata": {},
     "output_type": "execute_result"
    }
   ],
   "source": [
    "# Função index() retorna o índice do elemento inserido\n",
    "x.index(5)"
   ]
  },
  {
   "cell_type": "code",
   "execution_count": 48,
   "id": "e44a48f5",
   "metadata": {},
   "outputs": [
    {
     "name": "stdout",
     "output_type": "stream",
     "text": [
      "10\n"
     ]
    }
   ],
   "source": [
    "# Função len() retorna o comprimento do objeto\n",
    "print(len(x))"
   ]
  },
  {
   "cell_type": "code",
   "execution_count": 49,
   "id": "d50d3d84",
   "metadata": {},
   "outputs": [
    {
     "name": "stdout",
     "output_type": "stream",
     "text": [
      "10\n"
     ]
    }
   ],
   "source": [
    "# Função max() retorna o valor máximo da lista\n",
    "print(max(x))"
   ]
  },
  {
   "cell_type": "code",
   "execution_count": 50,
   "id": "22ef8df6",
   "metadata": {},
   "outputs": [
    {
     "name": "stdout",
     "output_type": "stream",
     "text": [
      "1\n"
     ]
    }
   ],
   "source": [
    "# Função min() retorna o valor mímino da lista\n",
    "print(min(x))"
   ]
  },
  {
   "cell_type": "code",
   "execution_count": 51,
   "id": "d0b008a2",
   "metadata": {},
   "outputs": [
    {
     "name": "stdout",
     "output_type": "stream",
     "text": [
      "[1, 2, 3, 4, 5, 6, 7, 8, 9, 10, 11]\n"
     ]
    }
   ],
   "source": [
    "# Função extend() extende a lista com novos valores adicionais\n",
    "x.extend([11])\n",
    "print(x)"
   ]
  },
  {
   "cell_type": "code",
   "execution_count": 52,
   "id": "acd053a9",
   "metadata": {},
   "outputs": [
    {
     "name": "stdout",
     "output_type": "stream",
     "text": [
      "[1, 2, 3, 4, 5, 6, 7, 8, 9, 10]\n"
     ]
    }
   ],
   "source": [
    "# Função remove() retira o elemento apresentado da lista\n",
    "x.remove(11)\n",
    "print(x)"
   ]
  },
  {
   "cell_type": "code",
   "execution_count": 53,
   "id": "4a5cf34f",
   "metadata": {},
   "outputs": [
    {
     "name": "stdout",
     "output_type": "stream",
     "text": [
      "['Data Science em 12 semanas', 'Startup Enxuta', 'Desperte seu Gigante Interior', 'Data Science para Leigos']\n"
     ]
    }
   ],
   "source": [
    "# Alterando um elemento da lista\n",
    "livros[3] = \"Data Science para Leigos\"\n",
    "print(livros)"
   ]
  },
  {
   "cell_type": "code",
   "execution_count": 54,
   "id": "0a268c02",
   "metadata": {},
   "outputs": [
    {
     "name": "stdout",
     "output_type": "stream",
     "text": [
      "Antes de deletar temos os seguintes livros: ['Data Science em 12 semanas', 'Startup Enxuta', 'Desperte seu Gigante Interior', 'Data Science para Leigos']\n",
      "Depois de deletar temos os seguintes livros: ['Data Science em 12 semanas', 'Startup Enxuta', 'Desperte seu Gigante Interior']\n"
     ]
    }
   ],
   "source": [
    "# Removendo um elemento da lista\n",
    "print(f\"Antes de deletar temos os seguintes livros: {livros}\")\n",
    "\n",
    "del livros[3]\n",
    "print(f\"Depois de deletar temos os seguintes livros: {livros}\")"
   ]
  },
  {
   "cell_type": "markdown",
   "id": "cac47449",
   "metadata": {},
   "source": [
    "### **Geralmente utilizamos a biblioteca numpy para lidar com arrays por conta da escassez built-in de python para tratamento de tal tipo**"
   ]
  },
  {
   "cell_type": "code",
   "execution_count": 55,
   "id": "36999a1f",
   "metadata": {},
   "outputs": [
    {
     "name": "stdout",
     "output_type": "stream",
     "text": [
      "[1, 2, 3, 4, 5]\n"
     ]
    }
   ],
   "source": [
    "# Array armazena float/int em uma lista de valores\n",
    "inteiros = [1, 2, 3, 4, 5]\n",
    "print(inteiros)"
   ]
  },
  {
   "cell_type": "code",
   "execution_count": 56,
   "id": "aacf3052",
   "metadata": {},
   "outputs": [
    {
     "name": "stdout",
     "output_type": "stream",
     "text": [
      "1\n"
     ]
    }
   ],
   "source": [
    "# Slicing / fatiamento\n",
    "print(inteiros[0])"
   ]
  },
  {
   "cell_type": "code",
   "execution_count": 57,
   "id": "817f0489",
   "metadata": {},
   "outputs": [
    {
     "data": {
      "text/plain": [
       "['__add__',\n",
       " '__class__',\n",
       " '__class_getitem__',\n",
       " '__contains__',\n",
       " '__delattr__',\n",
       " '__delitem__',\n",
       " '__dir__',\n",
       " '__doc__',\n",
       " '__eq__',\n",
       " '__format__',\n",
       " '__ge__',\n",
       " '__getattribute__',\n",
       " '__getitem__',\n",
       " '__gt__',\n",
       " '__hash__',\n",
       " '__iadd__',\n",
       " '__imul__',\n",
       " '__init__',\n",
       " '__init_subclass__',\n",
       " '__iter__',\n",
       " '__le__',\n",
       " '__len__',\n",
       " '__lt__',\n",
       " '__mul__',\n",
       " '__ne__',\n",
       " '__new__',\n",
       " '__reduce__',\n",
       " '__reduce_ex__',\n",
       " '__repr__',\n",
       " '__reversed__',\n",
       " '__rmul__',\n",
       " '__setattr__',\n",
       " '__setitem__',\n",
       " '__sizeof__',\n",
       " '__str__',\n",
       " '__subclasshook__',\n",
       " 'append',\n",
       " 'clear',\n",
       " 'copy',\n",
       " 'count',\n",
       " 'extend',\n",
       " 'index',\n",
       " 'insert',\n",
       " 'pop',\n",
       " 'remove',\n",
       " 'reverse',\n",
       " 'sort']"
      ]
     },
     "execution_count": 57,
     "metadata": {},
     "output_type": "execute_result"
    }
   ],
   "source": [
    "dir(list)"
   ]
  },
  {
   "cell_type": "code",
   "execution_count": 58,
   "id": "367b243a",
   "metadata": {},
   "outputs": [
    {
     "name": "stdout",
     "output_type": "stream",
     "text": [
      "Help on class list in module builtins:\n",
      "\n",
      "class list(object)\n",
      " |  list(iterable=(), /)\n",
      " |  \n",
      " |  Built-in mutable sequence.\n",
      " |  \n",
      " |  If no argument is given, the constructor creates a new empty list.\n",
      " |  The argument must be an iterable if specified.\n",
      " |  \n",
      " |  Methods defined here:\n",
      " |  \n",
      " |  __add__(self, value, /)\n",
      " |      Return self+value.\n",
      " |  \n",
      " |  __contains__(self, key, /)\n",
      " |      Return key in self.\n",
      " |  \n",
      " |  __delitem__(self, key, /)\n",
      " |      Delete self[key].\n",
      " |  \n",
      " |  __eq__(self, value, /)\n",
      " |      Return self==value.\n",
      " |  \n",
      " |  __ge__(self, value, /)\n",
      " |      Return self>=value.\n",
      " |  \n",
      " |  __getattribute__(self, name, /)\n",
      " |      Return getattr(self, name).\n",
      " |  \n",
      " |  __getitem__(...)\n",
      " |      x.__getitem__(y) <==> x[y]\n",
      " |  \n",
      " |  __gt__(self, value, /)\n",
      " |      Return self>value.\n",
      " |  \n",
      " |  __iadd__(self, value, /)\n",
      " |      Implement self+=value.\n",
      " |  \n",
      " |  __imul__(self, value, /)\n",
      " |      Implement self*=value.\n",
      " |  \n",
      " |  __init__(self, /, *args, **kwargs)\n",
      " |      Initialize self.  See help(type(self)) for accurate signature.\n",
      " |  \n",
      " |  __iter__(self, /)\n",
      " |      Implement iter(self).\n",
      " |  \n",
      " |  __le__(self, value, /)\n",
      " |      Return self<=value.\n",
      " |  \n",
      " |  __len__(self, /)\n",
      " |      Return len(self).\n",
      " |  \n",
      " |  __lt__(self, value, /)\n",
      " |      Return self<value.\n",
      " |  \n",
      " |  __mul__(self, value, /)\n",
      " |      Return self*value.\n",
      " |  \n",
      " |  __ne__(self, value, /)\n",
      " |      Return self!=value.\n",
      " |  \n",
      " |  __repr__(self, /)\n",
      " |      Return repr(self).\n",
      " |  \n",
      " |  __reversed__(self, /)\n",
      " |      Return a reverse iterator over the list.\n",
      " |  \n",
      " |  __rmul__(self, value, /)\n",
      " |      Return value*self.\n",
      " |  \n",
      " |  __setitem__(self, key, value, /)\n",
      " |      Set self[key] to value.\n",
      " |  \n",
      " |  __sizeof__(self, /)\n",
      " |      Return the size of the list in memory, in bytes.\n",
      " |  \n",
      " |  append(self, object, /)\n",
      " |      Append object to the end of the list.\n",
      " |  \n",
      " |  clear(self, /)\n",
      " |      Remove all items from list.\n",
      " |  \n",
      " |  copy(self, /)\n",
      " |      Return a shallow copy of the list.\n",
      " |  \n",
      " |  count(self, value, /)\n",
      " |      Return number of occurrences of value.\n",
      " |  \n",
      " |  extend(self, iterable, /)\n",
      " |      Extend list by appending elements from the iterable.\n",
      " |  \n",
      " |  index(self, value, start=0, stop=9223372036854775807, /)\n",
      " |      Return first index of value.\n",
      " |      \n",
      " |      Raises ValueError if the value is not present.\n",
      " |  \n",
      " |  insert(self, index, object, /)\n",
      " |      Insert object before index.\n",
      " |  \n",
      " |  pop(self, index=-1, /)\n",
      " |      Remove and return item at index (default last).\n",
      " |      \n",
      " |      Raises IndexError if list is empty or index is out of range.\n",
      " |  \n",
      " |  remove(self, value, /)\n",
      " |      Remove first occurrence of value.\n",
      " |      \n",
      " |      Raises ValueError if the value is not present.\n",
      " |  \n",
      " |  reverse(self, /)\n",
      " |      Reverse *IN PLACE*.\n",
      " |  \n",
      " |  sort(self, /, *, key=None, reverse=False)\n",
      " |      Sort the list in ascending order and return None.\n",
      " |      \n",
      " |      The sort is in-place (i.e. the list itself is modified) and stable (i.e. the\n",
      " |      order of two equal elements is maintained).\n",
      " |      \n",
      " |      If a key function is given, apply it once to each list item and sort them,\n",
      " |      ascending or descending, according to their function values.\n",
      " |      \n",
      " |      The reverse flag can be set to sort in descending order.\n",
      " |  \n",
      " |  ----------------------------------------------------------------------\n",
      " |  Class methods defined here:\n",
      " |  \n",
      " |  __class_getitem__(...) from builtins.type\n",
      " |      See PEP 585\n",
      " |  \n",
      " |  ----------------------------------------------------------------------\n",
      " |  Static methods defined here:\n",
      " |  \n",
      " |  __new__(*args, **kwargs) from builtins.type\n",
      " |      Create and return a new object.  See help(type) for accurate signature.\n",
      " |  \n",
      " |  ----------------------------------------------------------------------\n",
      " |  Data and other attributes defined here:\n",
      " |  \n",
      " |  __hash__ = None\n",
      "\n"
     ]
    }
   ],
   "source": [
    "help(list)"
   ]
  },
  {
   "cell_type": "markdown",
   "id": "f4c04c0a",
   "metadata": {},
   "source": [
    "## **EXERCÍCIOS**"
   ]
  },
  {
   "cell_type": "markdown",
   "id": "1cc4d5a6",
   "metadata": {},
   "source": [
    "1.   Crie uma lista vazia. Receba de um input do usuário 3 números e os adicione em sua lista. Printe por fim sua lista; (fácil)"
   ]
  },
  {
   "cell_type": "code",
   "execution_count": 61,
   "id": "9f6f0a6f",
   "metadata": {},
   "outputs": [
    {
     "name": "stdout",
     "output_type": "stream",
     "text": [
      "Informe o primeiro item da lista: Uni\n",
      "Informe o segundo item da lista: Gracinha\n",
      "Informe o terceiro item da lista: Kinder\n",
      "['Uni', 'Gracinha', 'Kinder']\n"
     ]
    }
   ],
   "source": [
    "lista = []\n",
    "\n",
    "item = input(\"Informe o primeiro item da lista: \")\n",
    "lista.append(item)\n",
    "\n",
    "item = input(\"Informe o segundo item da lista: \")\n",
    "lista.append(item)\n",
    "\n",
    "item = input(\"Informe o terceiro item da lista: \")\n",
    "lista.append(item)\n",
    "\n",
    "print(lista)"
   ]
  },
  {
   "cell_type": "markdown",
   "id": "d8941aa7",
   "metadata": {},
   "source": [
    "2.   Com a lista dos números, ordene-os com algum método listado em dir(list); (médio)"
   ]
  },
  {
   "cell_type": "code",
   "execution_count": 66,
   "id": "a255e9a4",
   "metadata": {},
   "outputs": [
    {
     "name": "stdout",
     "output_type": "stream",
     "text": [
      "[4, 5, 7, 8, 10, 12, 18, 19, 21, 27]\n"
     ]
    }
   ],
   "source": [
    "numeros = [8, 7, 12, 5, 27, 18, 10, 21, 4, 19]\n",
    "numeros.sort()\n",
    "\n",
    "print(numeros)"
   ]
  },
  {
   "cell_type": "markdown",
   "id": "35713ee3",
   "metadata": {},
   "source": [
    "3.   Crie uma lista vazia. Receba do usuário, através de inputs, 3 palavras. Apresente-as em ordem alfabética inversa(de Z à A); (difícil)"
   ]
  },
  {
   "cell_type": "code",
   "execution_count": 68,
   "id": "216e40a7",
   "metadata": {},
   "outputs": [
    {
     "name": "stdout",
     "output_type": "stream",
     "text": [
      "Informe a primeira palavra: Uni\n",
      "Informe a segunda palavra: Gracinha\n",
      "Informe a terceira palavra: Kinder\n",
      "['Uni', 'Kinder', 'Gracinha']\n"
     ]
    }
   ],
   "source": [
    "palavras = []\n",
    "\n",
    "palavra = input(\"Informe a primeira palavra: \")\n",
    "palavras.append(palavra)\n",
    "\n",
    "palavra = input(\"Informe a segunda palavra: \")\n",
    "palavras.append(palavra)\n",
    "\n",
    "palavra = input(\"Informe a terceira palavra: \")\n",
    "palavras.append(palavra)\n",
    "\n",
    "palavras.sort(reverse=True)\n",
    "\n",
    "print(palavras)"
   ]
  }
 ],
 "metadata": {
  "kernelspec": {
   "display_name": "Python 3 (ipykernel)",
   "language": "python",
   "name": "python3"
  },
  "language_info": {
   "codemirror_mode": {
    "name": "ipython",
    "version": 3
   },
   "file_extension": ".py",
   "mimetype": "text/x-python",
   "name": "python",
   "nbconvert_exporter": "python",
   "pygments_lexer": "ipython3",
   "version": "3.9.7"
  }
 },
 "nbformat": 4,
 "nbformat_minor": 5
}
