{
 "cells": [
  {
   "cell_type": "markdown",
   "id": "d109a1cf",
   "metadata": {},
   "source": [
    "# Arquivos"
   ]
  },
  {
   "cell_type": "markdown",
   "id": "1ceba860",
   "metadata": {},
   "source": [
    "## Upload de arquivos do seu sistema de arquivo local\n",
    "files.upload retorna um dicionário dos arquivos que foram enviados. O dicionário é digitado pelo nome do arquivo e os valores são os dados que foram enviados."
   ]
  },
  {
   "cell_type": "code",
   "execution_count": 1,
   "id": "ef37aab0",
   "metadata": {},
   "outputs": [
    {
     "name": "stdout",
     "output_type": "stream",
     "text": [
      "Oi, eu sou um arquivo!\n",
      "\n"
     ]
    }
   ],
   "source": [
    "arquivo = open(\"files/arquivodetexto.txt\", \"r\")\n",
    "print(arquivo.read())"
   ]
  },
  {
   "cell_type": "markdown",
   "id": "d06a3202",
   "metadata": {},
   "source": [
    "## Upload de arquivos usando o Google Colab\n",
    "O exemplo abaixo mostra como acessar o seu Google Drive usando um código de autorização e como gravar/ler arquivos. Uma vez executado, você poderá ver o novo arquivo (foo.txt) em https://drive.google.com/.\n",
    "\n",
    "Observe que isso apenas suporta leitura, gravação e movimentação de arquivos; Para modificar programaticamente as configurações de compartilhamento ou outros metadados, use uma das outras opções abaixo."
   ]
  },
  {
   "cell_type": "code",
   "execution_count": null,
   "id": "8d42c7b0",
   "metadata": {},
   "outputs": [],
   "source": [
    "from google.colab import drive\n",
    "drive.mount('/content/drive')"
   ]
  },
  {
   "cell_type": "markdown",
   "id": "a20567e7",
   "metadata": {},
   "source": [
    "## Modos de abertura de arquivo\n",
    "Modo    | Descrição\n",
    ":------:|:----------------------------------------\n",
    "   r    | Abre o arquivo para leitura (se não existir, será criado). Posição: início do arquivo.\n",
    "   r+   | Abre o arquivo para leitura e escrita (se não existir, será criado). Posição: início do arquivo.\n",
    "   w    | Se o arquivo existir, ele é aberto para escrita e o seu conteúdo apagado (se não existir, será criado). Posição: início do arquivo.\n",
    "   w+   | Se o arquivo existir, ele é aberto para leitura/escrita e o seu conteúdo apagado (se não existir, será criado). Posição: início do arquivo.\n",
    "   a    | Se o arquivo existir, ele é aberto para escrita (se não existir, será criado). Posição: final do arquivo.\n",
    "   a+   | Se o arquivo existir, ele é aberto para escrita e leitura (se não existir, será criado). Posição: final do arquivo."
   ]
  },
  {
   "cell_type": "markdown",
   "id": "f343f1bc",
   "metadata": {},
   "source": [
    "## Contar caracteres"
   ]
  },
  {
   "cell_type": "code",
   "execution_count": 3,
   "id": "e62b92a9",
   "metadata": {},
   "outputs": [
    {
     "name": "stdout",
     "output_type": "stream",
     "text": [
      "23\n"
     ]
    }
   ],
   "source": [
    "# Você pode contar o número de caracteres do arquivo\n",
    "print(arquivo.tell())\n",
    "arquivo.close()  # não se esqueça de sempre fechar o arquivo"
   ]
  },
  {
   "cell_type": "markdown",
   "id": "402c1dbf",
   "metadata": {},
   "source": [
    "## Gravar arquivos"
   ]
  },
  {
   "cell_type": "code",
   "execution_count": 4,
   "id": "8aedacfd",
   "metadata": {},
   "outputs": [],
   "source": [
    "arquivo2 = open(\"files/arquivodetexto.txt\", \"w\")\n",
    "arquivo2.write(\"nova linha inserida via Python.\")\n",
    "arquivo2.close()"
   ]
  },
  {
   "cell_type": "code",
   "execution_count": 5,
   "id": "cba8bfca",
   "metadata": {},
   "outputs": [
    {
     "name": "stdout",
     "output_type": "stream",
     "text": [
      "nova linha inserida via Python.\n"
     ]
    }
   ],
   "source": [
    "arquivo3 = open(\"files/arquivodetexto.txt\", \"r\")\n",
    "print(arquivo3.read())\n",
    "arquivo3.close()"
   ]
  },
  {
   "cell_type": "markdown",
   "id": "843bd3cd",
   "metadata": {},
   "source": [
    "## Acrescentando com o append"
   ]
  },
  {
   "cell_type": "code",
   "execution_count": 6,
   "id": "4a114b63",
   "metadata": {},
   "outputs": [],
   "source": [
    "arquivo4 = open(\"files/arquivodetexto.txt\", \"a\")\n",
    "arquivo4.write(\"Nova linha inserida\")\n",
    "arquivo4.close()"
   ]
  },
  {
   "cell_type": "code",
   "execution_count": 7,
   "id": "0b180bed",
   "metadata": {},
   "outputs": [
    {
     "name": "stdout",
     "output_type": "stream",
     "text": [
      "nova linha inserida via Python.Nova linha inserida\n"
     ]
    }
   ],
   "source": [
    "arquivo5 = open(\"files/arquivodetexto.txt\", \"r\")\n",
    "print(arquivo5.read())\n",
    "arquivo5.close()"
   ]
  },
  {
   "cell_type": "markdown",
   "id": "2f88311b",
   "metadata": {},
   "source": [
    "## Usando o with\n",
    "Ao abrir um arquivo utilizando o *with* não é necessário fechar o arquivo, pois ele é fechado automaticamente ao terminar o bloco de comandos."
   ]
  },
  {
   "cell_type": "code",
   "execution_count": 8,
   "id": "b3cf3b29",
   "metadata": {},
   "outputs": [],
   "source": [
    "with open(\"files/teste.txt\", \"w\") as arq:\n",
    "    arq.write(\"Apenas testando...\")\n"
   ]
  },
  {
   "cell_type": "code",
   "execution_count": 9,
   "id": "9c75b81e",
   "metadata": {},
   "outputs": [
    {
     "name": "stdout",
     "output_type": "stream",
     "text": [
      "Apenas testando...\n"
     ]
    }
   ],
   "source": [
    "with open(\"files/teste.txt\", \"r\") as arq2:\n",
    "    print(arq2.read())"
   ]
  }
 ],
 "metadata": {
  "kernelspec": {
   "display_name": "Python 3 (ipykernel)",
   "language": "python",
   "name": "python3"
  },
  "language_info": {
   "codemirror_mode": {
    "name": "ipython",
    "version": 3
   },
   "file_extension": ".py",
   "mimetype": "text/x-python",
   "name": "python",
   "nbconvert_exporter": "python",
   "pygments_lexer": "ipython3",
   "version": "3.9.7"
  }
 },
 "nbformat": 4,
 "nbformat_minor": 5
}
