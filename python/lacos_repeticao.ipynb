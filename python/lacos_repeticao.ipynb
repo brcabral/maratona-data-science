{
 "cells": [
  {
   "cell_type": "markdown",
   "id": "841a1cf9",
   "metadata": {},
   "source": [
    "# *Laços de repetição*"
   ]
  },
  {
   "cell_type": "markdown",
   "id": "a861347b",
   "metadata": {},
   "source": [
    "## *While*"
   ]
  },
  {
   "cell_type": "code",
   "execution_count": 2,
   "id": "6d3daabe",
   "metadata": {},
   "outputs": [
    {
     "name": "stdout",
     "output_type": "stream",
     "text": [
      "0\n",
      "1\n",
      "2\n",
      "3\n",
      "4\n",
      "5\n",
      "6\n",
      "7\n",
      "8\n",
      "9\n",
      "10\n"
     ]
    }
   ],
   "source": [
    "# Enquanto a declaração for verdadeira, o bloco será executado\n",
    "n = 0\n",
    "while n <= 10:\n",
    "    print(n)\n",
    "    n = n + 1"
   ]
  },
  {
   "cell_type": "code",
   "execution_count": null,
   "id": "c03626a4",
   "metadata": {},
   "outputs": [],
   "source": [
    "# +=, -=, *=, /=\n",
    "n = 0\n",
    "while n <= 10:\n",
    "    print(n)\n",
    "    n += 1"
   ]
  },
  {
   "cell_type": "markdown",
   "id": "e9cda42d",
   "metadata": {},
   "source": [
    "### *break*"
   ]
  },
  {
   "cell_type": "code",
   "execution_count": 8,
   "id": "8281746a",
   "metadata": {},
   "outputs": [
    {
     "name": "stdout",
     "output_type": "stream",
     "text": [
      "0\n",
      "1\n",
      "2\n",
      "3\n"
     ]
    }
   ],
   "source": [
    "# Com a instrução break podemos para o loop mesmo se a condição do while não for verdadeira\n",
    "n = 0\n",
    "while n<= 10:\n",
    "    print(n)\n",
    "    if n == 3:\n",
    "        break\n",
    "    n += 1"
   ]
  },
  {
   "cell_type": "markdown",
   "id": "b481dbf2",
   "metadata": {},
   "source": [
    "### *continue*"
   ]
  },
  {
   "cell_type": "code",
   "execution_count": 20,
   "id": "32f929d1",
   "metadata": {},
   "outputs": [
    {
     "name": "stdout",
     "output_type": "stream",
     "text": [
      "1\n",
      "2\n",
      "4\n",
      "5\n",
      "6\n",
      "7\n",
      "8\n",
      "9\n",
      "10\n",
      "11\n"
     ]
    }
   ],
   "source": [
    "# Com a instrução continue podemos continuar a próxima iteração\n",
    "n = 0\n",
    "while n <= 10:\n",
    "    n += 1    \n",
    "    if n == 3:\n",
    "        continue\n",
    "    print(n)"
   ]
  },
  {
   "cell_type": "markdown",
   "id": "da102be4",
   "metadata": {},
   "source": [
    "## *for*"
   ]
  },
  {
   "cell_type": "code",
   "execution_count": 12,
   "id": "05dc01b2",
   "metadata": {},
   "outputs": [
    {
     "name": "stdout",
     "output_type": "stream",
     "text": [
      "Ana\n",
      "Maria\n",
      "Alita\n"
     ]
    }
   ],
   "source": [
    "# Iteração através de sequências (lista, tupla, dicionário, set, string)\n",
    "pessoas = [\"Ana\", \"Maria\", \"Alita\"]\n",
    "for pessoa in pessoas:\n",
    "    print(pessoa)"
   ]
  },
  {
   "cell_type": "code",
   "execution_count": 13,
   "id": "65dbb42f",
   "metadata": {},
   "outputs": [
    {
     "name": "stdout",
     "output_type": "stream",
     "text": [
      "A\n",
      "l\n",
      "i\n",
      "t\n",
      "a\n"
     ]
    }
   ],
   "source": [
    "# Iteração em string\n",
    "nome = \"Alita\"\n",
    "for letra in nome:\n",
    "    print(letra)"
   ]
  },
  {
   "cell_type": "code",
   "execution_count": 14,
   "id": "38e92ae9",
   "metadata": {},
   "outputs": [
    {
     "name": "stdout",
     "output_type": "stream",
     "text": [
      "0\n",
      "1\n",
      "2\n",
      "3\n",
      "4\n",
      "5\n",
      "6\n",
      "7\n",
      "8\n",
      "9\n"
     ]
    }
   ],
   "source": [
    "# Iteração com range\n",
    "for x in range(10):\n",
    "    print(x)"
   ]
  },
  {
   "cell_type": "code",
   "execution_count": 15,
   "id": "d49f2729",
   "metadata": {},
   "outputs": [
    {
     "name": "stdout",
     "output_type": "stream",
     "text": [
      "0\n",
      "2\n",
      "4\n",
      "6\n",
      "8\n",
      "10\n",
      "12\n",
      "14\n",
      "16\n",
      "18\n",
      "20\n",
      "22\n",
      "24\n",
      "26\n",
      "28\n",
      "30\n",
      "32\n",
      "34\n",
      "36\n",
      "38\n",
      "40\n",
      "42\n",
      "44\n",
      "46\n",
      "48\n",
      "50\n",
      "52\n",
      "54\n",
      "56\n",
      "58\n",
      "60\n",
      "62\n",
      "64\n",
      "66\n",
      "68\n",
      "70\n",
      "72\n",
      "74\n",
      "76\n",
      "78\n",
      "80\n",
      "82\n",
      "84\n",
      "86\n",
      "88\n",
      "90\n",
      "92\n",
      "94\n",
      "96\n",
      "98\n"
     ]
    }
   ],
   "source": [
    "# Também pode receber \"inicio, fim, passo\"\n",
    "for x in range(0, 100, 2):\n",
    "    print(x)"
   ]
  },
  {
   "cell_type": "code",
   "execution_count": 16,
   "id": "62bf4c75",
   "metadata": {},
   "outputs": [
    {
     "name": "stdout",
     "output_type": "stream",
     "text": [
      "0\n",
      "1\n",
      "2\n",
      "3\n",
      "4\n",
      "5\n",
      "6\n",
      "7\n",
      "8\n",
      "9\n",
      "fim!\n"
     ]
    }
   ],
   "source": [
    "# Poderá receber else\n",
    "for x in range(10):\n",
    "    print(x)\n",
    "else:\n",
    "    print(\"fim!\")"
   ]
  },
  {
   "cell_type": "code",
   "execution_count": 17,
   "id": "652dac9f",
   "metadata": {},
   "outputs": [
    {
     "name": "stdout",
     "output_type": "stream",
     "text": [
      "0\n",
      "1\n",
      "2\n",
      "3\n",
      "4\n",
      "5\n",
      "fim!\n"
     ]
    }
   ],
   "source": [
    "# Poderá receber break\n",
    "for x in range(10):\n",
    "    print(x)\n",
    "    if x == 5:\n",
    "        print(\"fim!\")\n",
    "        break"
   ]
  },
  {
   "cell_type": "code",
   "execution_count": 19,
   "id": "5dc8bfc3",
   "metadata": {},
   "outputs": [
    {
     "name": "stdout",
     "output_type": "stream",
     "text": [
      "0\n",
      "1\n",
      "2\n",
      "3\n",
      "4\n",
      "5\n",
      "fim!\n",
      "6\n",
      "7\n",
      "8\n",
      "9\n"
     ]
    }
   ],
   "source": [
    "# E continue\n",
    "for x in range(10):\n",
    "    print(x)\n",
    "    if x == 5:\n",
    "        print(\"fim!\")\n",
    "        continue"
   ]
  },
  {
   "cell_type": "code",
   "execution_count": 21,
   "id": "325e78f9",
   "metadata": {},
   "outputs": [
    {
     "name": "stdout",
     "output_type": "stream",
     "text": [
      "verde maça\n",
      "verde uva\n",
      "verde banana\n",
      "roxa maça\n",
      "roxa uva\n",
      "roxa banana\n",
      "amarela maça\n",
      "amarela uva\n",
      "amarela banana\n"
     ]
    }
   ],
   "source": [
    "# Loops aninhados\n",
    "cores  = [\"verde\", \"roxa\", \"amarela\"]\n",
    "frutas = [\"maça\", \"uva\", \"banana\"]\n",
    "\n",
    "for cor in cores:\n",
    "    for fruta in frutas:\n",
    "        print(cor, fruta)"
   ]
  },
  {
   "cell_type": "markdown",
   "id": "01b6edb2",
   "metadata": {},
   "source": [
    "## *Exercícios*"
   ]
  },
  {
   "cell_type": "markdown",
   "id": "5005974b",
   "metadata": {},
   "source": [
    "1.   Crie um algoritmo que solicite ao usuário 3 números e printe na tela a média destes (fácil)"
   ]
  },
  {
   "cell_type": "code",
   "execution_count": 26,
   "id": "ae4c9e62",
   "metadata": {},
   "outputs": [
    {
     "name": "stdout",
     "output_type": "stream",
     "text": [
      "Digite o 1º número: 10\n",
      "Digite o 2º número: 20\n",
      "Digite o 3º número: 30\n",
      "A média dos 3 números digitados é: 20.0\n"
     ]
    }
   ],
   "source": [
    "soma = 0\n",
    "\n",
    "for i in range(3):\n",
    "    numero = int(input(f\"Digite o {i + 1}º número: \"))\n",
    "    soma += numero\n",
    "\n",
    "media = soma / 3\n",
    "print(f\"A média dos 3 números digitados é: {media}\")"
   ]
  },
  {
   "cell_type": "markdown",
   "id": "abf9722b",
   "metadata": {},
   "source": [
    "2.   Crie um algoritmo que solicite ao usuário um número e apresente o fatorial deste número como resultado (médio)\n",
    "[Clique aqui para saber como calcular o fatorial.](https://pt.wikipedia.org/wiki/Fatorial)"
   ]
  },
  {
   "cell_type": "code",
   "execution_count": 31,
   "id": "13cfdbc3",
   "metadata": {},
   "outputs": [
    {
     "name": "stdout",
     "output_type": "stream",
     "text": [
      "Digite um número inteiro: 5\n",
      "O fatorial de 5 é: 120\n"
     ]
    }
   ],
   "source": [
    "fatorial = 1\n",
    "numero = int(input(\"Digite um número inteiro: \"))\n",
    "\n",
    "for i in range(numero, 0, -1):\n",
    "    fatorial *= i\n",
    "\n",
    "print(f\"O fatorial de {numero} é: {fatorial}\")"
   ]
  },
  {
   "cell_type": "markdown",
   "id": "708e65c4",
   "metadata": {},
   "source": [
    "3.   Crie um algoritmo que solicite 5 números. Ao término, printar o maior e o menor número (difícil)"
   ]
  },
  {
   "cell_type": "code",
   "execution_count": 50,
   "id": "1f742753",
   "metadata": {
    "scrolled": true
   },
   "outputs": [
    {
     "name": "stdout",
     "output_type": "stream",
     "text": [
      "Digite o 1º número: 5\n",
      "Digite o 2º número: 9\n",
      "Digite o 3º número: 4\n",
      "Digite o 4º número: 6\n",
      "Digite o 5º número: 7\n",
      "numero: 9\n",
      "numero: 4\n",
      "numero: 6\n",
      "numero: 7\n",
      "O menor número digitado é o 4 e o maior é o 9\n"
     ]
    }
   ],
   "source": [
    "numeros = []\n",
    "\n",
    "for i in range(1, 6):\n",
    "    numero = int(input(f\"Digite o {i}º número: \"))\n",
    "    numeros.append(numero)\n",
    "\n",
    "menor = numeros[0]\n",
    "maior = numeros[0]\n",
    "\n",
    "for i in range(1, 5):\n",
    "    if (menor > numeros[i]):\n",
    "        menor = numeros[i]\n",
    "    if (maior < numeros[i]):\n",
    "        maior = numeros[i]\n",
    "        \n",
    "print(f\"O menor número digitado é o {menor} e o maior é o {maior}\")"
   ]
  }
 ],
 "metadata": {
  "kernelspec": {
   "display_name": "Python 3 (ipykernel)",
   "language": "python",
   "name": "python3"
  },
  "language_info": {
   "codemirror_mode": {
    "name": "ipython",
    "version": 3
   },
   "file_extension": ".py",
   "mimetype": "text/x-python",
   "name": "python",
   "nbconvert_exporter": "python",
   "pygments_lexer": "ipython3",
   "version": "3.9.7"
  }
 },
 "nbformat": 4,
 "nbformat_minor": 5
}
