{
 "cells": [
  {
   "cell_type": "markdown",
   "id": "54a0374e",
   "metadata": {},
   "source": [
    "# Métodos e funções\n",
    "Linguagens de programação orientada a objeto possuem objetos que representam coisas no mundo real e a interação destas coisas no mundo real se dá através de métodos e funções"
   ]
  },
  {
   "cell_type": "markdown",
   "id": "404cc257",
   "metadata": {},
   "source": [
    "## Funções\n",
    "Podem ter parâmetros ou não, podendo devolver, ou não, quaisquer dados pois funções não lidam com classes e conceitos de instâncias"
   ]
  },
  {
   "cell_type": "code",
   "execution_count": null,
   "id": "236a4ac7",
   "metadata": {},
   "outputs": [],
   "source": [
    "# Estrutura básica de uma função\n",
    "def SuaFuncao(a, b):\n",
    "    # insira aqui sua função"
   ]
  },
  {
   "cell_type": "code",
   "execution_count": 4,
   "id": "b1389922",
   "metadata": {},
   "outputs": [],
   "source": [
    "def Subtrair(a, b):\n",
    "    return a - b"
   ]
  },
  {
   "cell_type": "code",
   "execution_count": 5,
   "id": "4ccb9b52",
   "metadata": {},
   "outputs": [
    {
     "data": {
      "text/plain": [
       "99"
      ]
     },
     "execution_count": 5,
     "metadata": {},
     "output_type": "execute_result"
    }
   ],
   "source": [
    "Subtrair(100, 1)"
   ]
  },
  {
   "cell_type": "markdown",
   "id": "25320a2a",
   "metadata": {},
   "source": [
    "## Métodos\n",
    "Todo método é uma função!!"
   ]
  },
  {
   "cell_type": "code",
   "execution_count": null,
   "id": "a1f69d04",
   "metadata": {
    "scrolled": false
   },
   "outputs": [],
   "source": [
    "# Estrutura básica de um método\n",
    "class SuaClasse:\n",
    "    def SeuMetodo(self):\n",
    "    # insira aqui seu método"
   ]
  },
  {
   "cell_type": "code",
   "execution_count": null,
   "id": "d5541553",
   "metadata": {},
   "outputs": [],
   "source": [
    "# dir() retorna a lista de todos métodos/atributos do objeto solicitado\n",
    "x = \"OLÁ, SOU UMA STRING!\"\n",
    "print(dir(x))\n",
    "\n",
    "# nesse exemplo dir(x) ou dir(str) são equivalentes, pois python sabe que x é uma variável do tipo string"
   ]
  },
  {
   "cell_type": "code",
   "execution_count": 8,
   "id": "4205fc9e",
   "metadata": {},
   "outputs": [
    {
     "name": "stdout",
     "output_type": "stream",
     "text": [
      "Help on method_descriptor:\n",
      "\n",
      "lower(self, /)\n",
      "    Return a copy of the string converted to lowercase.\n",
      "\n"
     ]
    }
   ],
   "source": [
    "# Help + método retorna o conceito e aplicaçõa do método inserido\n",
    "help(str.lower)"
   ]
  },
  {
   "cell_type": "code",
   "execution_count": 9,
   "id": "c845894a",
   "metadata": {},
   "outputs": [
    {
     "name": "stdout",
     "output_type": "stream",
     "text": [
      "olá, sou uma string!\n"
     ]
    }
   ],
   "source": [
    "# Depois de listar os métodos com dir() e ler a documentação do mesmo com o help() é hora de testar\n",
    "print(x.lower())"
   ]
  },
  {
   "cell_type": "markdown",
   "id": "096dcc96",
   "metadata": {},
   "source": [
    "# Funções orientadas a expressões\n",
    "Funções in-line, comumente usadas com map(), filter(), reduce(). Não são funções em bloco, mas sim funções curtas e escritas de forma simples."
   ]
  },
  {
   "cell_type": "markdown",
   "id": "39766936",
   "metadata": {},
   "source": [
    "### Lambda(função)\n",
    "Cria função de forma rápida e anônima, sem o def"
   ]
  },
  {
   "cell_type": "code",
   "execution_count": 10,
   "id": "b0322163",
   "metadata": {},
   "outputs": [
    {
     "name": "stdout",
     "output_type": "stream",
     "text": [
      "4\n"
     ]
    }
   ],
   "source": [
    "raiz = lambda x: x ** 2\n",
    "print(raiz(2))"
   ]
  },
  {
   "cell_type": "markdown",
   "id": "fedfc7cf",
   "metadata": {},
   "source": [
    "### Map(função, sequência)\n",
    "Mapeia e aplica uma função a todos os elementos da sequência"
   ]
  },
  {
   "cell_type": "code",
   "execution_count": 11,
   "id": "f42ddcbf",
   "metadata": {},
   "outputs": [
    {
     "name": "stdout",
     "output_type": "stream",
     "text": [
      "[1, 4, 9, 16, 25]\n"
     ]
    }
   ],
   "source": [
    "seq = [1, 2, 3, 4, 5]\n",
    "print(list(map(lambda x: x ** 2, seq)))"
   ]
  },
  {
   "cell_type": "markdown",
   "id": "2d24ad17",
   "metadata": {},
   "source": [
    "### Reduce(função, sequência)\n",
    "Aplica a sequência a uma função e reduz a um único valor final"
   ]
  },
  {
   "cell_type": "code",
   "execution_count": 17,
   "id": "ae0542b2",
   "metadata": {},
   "outputs": [
    {
     "data": {
      "text/plain": [
       "120"
      ]
     },
     "execution_count": 17,
     "metadata": {},
     "output_type": "execute_result"
    }
   ],
   "source": [
    "from functools import reduce\n",
    "reduce((lambda x, y: x * y), [1, 2, 3, 4, 5])"
   ]
  },
  {
   "cell_type": "markdown",
   "id": "2ff96654",
   "metadata": {},
   "source": [
    "### Filter(função, sequência)\n",
    "Filtra os elementos da sequência que retornarem True"
   ]
  },
  {
   "cell_type": "code",
   "execution_count": 19,
   "id": "1ee66780",
   "metadata": {},
   "outputs": [
    {
     "name": "stdout",
     "output_type": "stream",
     "text": [
      "[-5, -4, -3, -2, -1]\n"
     ]
    }
   ],
   "source": [
    "seq = range(-5, 5)\n",
    "negativos = list(filter(lambda x: x < 0, seq))\n",
    "print(negativos)"
   ]
  },
  {
   "cell_type": "markdown",
   "id": "8e1afe5b",
   "metadata": {},
   "source": [
    "### List Comprehension\n",
    "Performance mais alta do que o FOR, desenvolve loops de repetição dentro de sequências"
   ]
  },
  {
   "cell_type": "code",
   "execution_count": 24,
   "id": "3ab15f43",
   "metadata": {},
   "outputs": [
    {
     "name": "stdout",
     "output_type": "stream",
     "text": [
      "[0, 3, 6, 9, 12, 15, 18, 21, 24, 27, 30]\n"
     ]
    }
   ],
   "source": [
    "mlt = [i for i in range(31) if i % 3 == 0]\n",
    "print(mlt)"
   ]
  },
  {
   "cell_type": "markdown",
   "id": "3353c336",
   "metadata": {},
   "source": [
    "### Zip\n",
    "Zipa duas sequências retornando apenas uma com o número de elementos da menor"
   ]
  },
  {
   "cell_type": "code",
   "execution_count": 25,
   "id": "10561bae",
   "metadata": {},
   "outputs": [
    {
     "name": "stdout",
     "output_type": "stream",
     "text": [
      "[(1, 'um'), (2, 'dois'), (3, 'tres')]\n"
     ]
    }
   ],
   "source": [
    "seq1 = [1, 2, 3]\n",
    "seq2 = [\"um\", \"dois\", \"tres\"]\n",
    "zipados = list(zip(seq1, seq2))\n",
    "print(zipados)"
   ]
  },
  {
   "cell_type": "code",
   "execution_count": 28,
   "id": "313598aa",
   "metadata": {},
   "outputs": [
    {
     "name": "stdout",
     "output_type": "stream",
     "text": [
      "[('one', 'um'), ('two', 'dois'), ('three', 'tres')]\n"
     ]
    }
   ],
   "source": [
    "seq3 = [\"one\", \"two\", \"three\", \"four\", \"five\"]\n",
    "seq4 = [\"um\", \"dois\", \"tres\"]\n",
    "seq_zip = list(zip(seq3, seq4))\n",
    "print(seq_zip)"
   ]
  },
  {
   "cell_type": "markdown",
   "id": "42c0e6f5",
   "metadata": {},
   "source": [
    "### Enumerate\n",
    "Numera os valores com índice de cada valor"
   ]
  },
  {
   "cell_type": "code",
   "execution_count": 30,
   "id": "e3a618ee",
   "metadata": {},
   "outputs": [
    {
     "name": "stdout",
     "output_type": "stream",
     "text": [
      "(0, 'abacaxi')\n",
      "(1, 'banana')\n",
      "(2, 'caju')\n",
      "(3, 'laranja')\n"
     ]
    }
   ],
   "source": [
    "seq = [\"abacaxi\", \"banana\", \"caju\", \"laranja\"]\n",
    "for x in enumerate(seq):\n",
    "    print(x)"
   ]
  }
 ],
 "metadata": {
  "kernelspec": {
   "display_name": "Python 3 (ipykernel)",
   "language": "python",
   "name": "python3"
  },
  "language_info": {
   "codemirror_mode": {
    "name": "ipython",
    "version": 3
   },
   "file_extension": ".py",
   "mimetype": "text/x-python",
   "name": "python",
   "nbconvert_exporter": "python",
   "pygments_lexer": "ipython3",
   "version": "3.9.7"
  }
 },
 "nbformat": 4,
 "nbformat_minor": 5
}
