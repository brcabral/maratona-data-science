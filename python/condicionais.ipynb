{
 "cells": [
  {
   "cell_type": "markdown",
   "id": "f0a3d65f",
   "metadata": {},
   "source": [
    "## **If**"
   ]
  },
  {
   "cell_type": "code",
   "execution_count": 3,
   "id": "947131da",
   "metadata": {},
   "outputs": [
    {
     "name": "stdout",
     "output_type": "stream",
     "text": [
      "Número positivo\n"
     ]
    }
   ],
   "source": [
    "x = 10\n",
    "if x > 0:\n",
    "    print(\"Número positivo\")\n",
    "else:\n",
    "    print(\"Número negativo\")"
   ]
  },
  {
   "cell_type": "markdown",
   "id": "29819393",
   "metadata": {},
   "source": [
    "## **Operadores lógicos**\n",
    "Simbolo | Descrição\n",
    ":------:|:----------------------------------------\n",
    "  and   | True se ambas forem atendidas\n",
    "   or   | True se alguma for atendida\n",
    "  not   | Negação"
   ]
  },
  {
   "cell_type": "code",
   "execution_count": 4,
   "id": "979caf74",
   "metadata": {},
   "outputs": [
    {
     "name": "stdout",
     "output_type": "stream",
     "text": [
      "Trimestre 1\n"
     ]
    }
   ],
   "source": [
    "x = \"janeiro\"\n",
    "if x == \"janeiro\" or x == \"fevereiro\" or x == \"março\":\n",
    "    print(\"Trimestre 1\")\n",
    "elif x == \"abril\" or x == \"maio\" or (x == \"junho\"):\n",
    "    print(\"Trimestre 2\")\n",
    "else:\n",
    "    print(\"Trimestre 3\")"
   ]
  },
  {
   "cell_type": "markdown",
   "id": "dd8b1bdf",
   "metadata": {},
   "source": [
    "## **EXERCÍCIOS**"
   ]
  },
  {
   "cell_type": "markdown",
   "id": "46abe1cd",
   "metadata": {},
   "source": [
    "1.   Crie um algoritmo que solicite do usuário um número e calcule se ele é POSITIVO ou NEGATIVO (fácil)"
   ]
  },
  {
   "cell_type": "code",
   "execution_count": 5,
   "id": "9613375f",
   "metadata": {},
   "outputs": [
    {
     "name": "stdout",
     "output_type": "stream",
     "text": [
      "Digite número: 5\n",
      "O número é positivo\n"
     ]
    }
   ],
   "source": [
    "num = int(input(\"Digite número: \"))\n",
    "\n",
    "if (num > 0):\n",
    "    print(\"O número é positivo\")\n",
    "else:\n",
    "    print(\"O número é negativo\")"
   ]
  },
  {
   "cell_type": "markdown",
   "id": "f76b28f0",
   "metadata": {},
   "source": [
    "2.   Crie um algoritmo que solicite peso e altura e como resultado printe o IMC na tela (médio)"
   ]
  },
  {
   "cell_type": "code",
   "execution_count": 9,
   "id": "fca03c78",
   "metadata": {},
   "outputs": [
    {
     "name": "stdout",
     "output_type": "stream",
     "text": [
      "Digite o peso da pessoa: 74\n",
      "Digite a altura da pessoa: 1.74\n",
      "O IMC é 24.441802087462015\n"
     ]
    }
   ],
   "source": [
    "peso = float(input(\"Digite o peso da pessoa: \"))\n",
    "altura = float(input(\"Digite a altura da pessoa: \"))\n",
    "\n",
    "imc = peso / (altura ** 2)\n",
    "\n",
    "print(f\"O IMC é {imc}\")"
   ]
  },
  {
   "cell_type": "markdown",
   "id": "c10c3874",
   "metadata": {},
   "source": [
    "3.   Crie um algoritmo que solicite do usuário um número e printe na tela PAR, quando número par e IMPAR, quando número ímpar(difícil)"
   ]
  },
  {
   "cell_type": "code",
   "execution_count": 8,
   "id": "b208c0d1",
   "metadata": {},
   "outputs": [
    {
     "name": "stdout",
     "output_type": "stream",
     "text": [
      "Digite número: 7\n",
      "O número é impar\n"
     ]
    }
   ],
   "source": [
    "num = int(input(\"Digite número: \"))\n",
    "\n",
    "if (num % 2 == 0):\n",
    "    print(\"O número é par\")\n",
    "else:\n",
    "    print(\"O número é impar\")"
   ]
  }
 ],
 "metadata": {
  "kernelspec": {
   "display_name": "Python 3 (ipykernel)",
   "language": "python",
   "name": "python3"
  },
  "language_info": {
   "codemirror_mode": {
    "name": "ipython",
    "version": 3
   },
   "file_extension": ".py",
   "mimetype": "text/x-python",
   "name": "python",
   "nbconvert_exporter": "python",
   "pygments_lexer": "ipython3",
   "version": "3.9.7"
  }
 },
 "nbformat": 4,
 "nbformat_minor": 5
}
