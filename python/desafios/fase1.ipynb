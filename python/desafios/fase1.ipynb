{
 "cells": [
  {
   "cell_type": "markdown",
   "metadata": {
    "colab_type": "text",
    "id": "CYNAmoj4zSXl"
   },
   "source": [
    "Crie um algoritmo em Python que mostre a mensagem \"Alo mundo\" na tela."
   ]
  },
  {
   "cell_type": "code",
   "execution_count": 1,
   "metadata": {
    "colab": {},
    "colab_type": "code",
    "id": "ViAfpy3GzPN-"
   },
   "outputs": [
    {
     "name": "stdout",
     "output_type": "stream",
     "text": [
      "Alo mundo\n"
     ]
    }
   ],
   "source": [
    "print(\"Alo mundo\")"
   ]
  },
  {
   "cell_type": "markdown",
   "metadata": {
    "colab_type": "text",
    "id": "gdMis92izSmQ"
   },
   "source": [
    "Crie um algoritmo em Python que peça dois números e imprima a soma."
   ]
  },
  {
   "cell_type": "code",
   "execution_count": 3,
   "metadata": {
    "colab": {},
    "colab_type": "code",
    "id": "BFpWkdCBz_zh"
   },
   "outputs": [
    {
     "name": "stdout",
     "output_type": "stream",
     "text": [
      "Digite o primeiro número: 10\n",
      "Digite o segundo número: 2\n",
      "A soma de 10 e 2 é: 12\n"
     ]
    }
   ],
   "source": [
    "num01 = int(input(\"Digite o primeiro número: \"))\n",
    "num02 = int(input(\"Digite o segundo número: \"))\n",
    "\n",
    "print(f\"A soma de {num01} e {num02} é: {num01 + num02}\")"
   ]
  },
  {
   "cell_type": "markdown",
   "metadata": {
    "colab_type": "text",
    "id": "E_0l_Vx6zSo2"
   },
   "source": [
    "Crie um algoritmo em Python que peça um número e então mostre a mensagem O número informado foi [número]."
   ]
  },
  {
   "cell_type": "code",
   "execution_count": 4,
   "metadata": {
    "colab": {},
    "colab_type": "code",
    "id": "KwJf7XZS0AZW"
   },
   "outputs": [
    {
     "name": "stdout",
     "output_type": "stream",
     "text": [
      "Digite um número7\n",
      "O número informado foi 7\n"
     ]
    }
   ],
   "source": [
    "num = int(input(\"Digite um número\"))\n",
    "print(f\"O número informado foi {num}\")"
   ]
  },
  {
   "cell_type": "markdown",
   "metadata": {
    "colab_type": "text",
    "id": "1i4VCiiczSrL"
   },
   "source": [
    "Crie um algoritmo em Python que converta metros para centímetros."
   ]
  },
  {
   "cell_type": "code",
   "execution_count": 7,
   "metadata": {
    "colab": {},
    "colab_type": "code",
    "id": "yoW67hjA0BHy"
   },
   "outputs": [
    {
     "name": "stdout",
     "output_type": "stream",
     "text": [
      "Digite o metro: 1.74\n",
      "1.74 são 174.0\n"
     ]
    }
   ],
   "source": [
    "metros = float(input(\"Digite o metro: \"))\n",
    "print(f\"{metros} são {metros * 100}\")"
   ]
  },
  {
   "cell_type": "markdown",
   "metadata": {
    "colab_type": "text",
    "id": "4ep7kezvzStO"
   },
   "source": [
    "Crie um algoritmo em Python que peça as 4 notas bimestrais e mostre a média."
   ]
  },
  {
   "cell_type": "code",
   "execution_count": 8,
   "metadata": {
    "colab": {},
    "colab_type": "code",
    "id": "6K6IHWdr0Blt"
   },
   "outputs": [
    {
     "name": "stdout",
     "output_type": "stream",
     "text": [
      "Digite a primeira nota: 7.5\n",
      "Digite a segunda nota: 8\n",
      "Digite a terceira nota: 8\n",
      "Digite a quarta nota: 9\n",
      "A média das notas é 8.125\n"
     ]
    }
   ],
   "source": [
    "nota1 = float(input(\"Digite a primeira nota: \"))\n",
    "nota2 = float(input(\"Digite a segunda nota: \"))\n",
    "nota3 = float(input(\"Digite a terceira nota: \"))\n",
    "nota4 = float(input(\"Digite a quarta nota: \"))\n",
    "\n",
    "media = ((nota1 + nota2 + nota3 + nota4) / 4)\n",
    "print(f\"A média das notas é {media}\")"
   ]
  },
  {
   "cell_type": "markdown",
   "metadata": {
    "colab_type": "text",
    "id": "u6__NaXqzeYg"
   },
   "source": [
    "Crie um algoritmo em Python que peça o raio de um círculo, calcule e mostre sua área."
   ]
  },
  {
   "cell_type": "code",
   "execution_count": 9,
   "metadata": {
    "colab": {},
    "colab_type": "code",
    "id": "mm2L7g3x0Cfx"
   },
   "outputs": [
    {
     "name": "stdout",
     "output_type": "stream",
     "text": [
      "Informe o raio do círculo: 3\n",
      "A área do círculo é: 28.26\n"
     ]
    }
   ],
   "source": [
    "raio = float(input(\"Informe o raio do círculo: \"))\n",
    "area = (3.14 * (raio ** 2))\n",
    "\n",
    "print(f\"A área do círculo é: {area}\")"
   ]
  },
  {
   "cell_type": "markdown",
   "metadata": {
    "colab_type": "text",
    "id": "lIlfG-ATzgOr"
   },
   "source": [
    "Crie um algoritmo em Python que calcule a área de um quadrado, em seguida mostre o dobro desta área para o usuário."
   ]
  },
  {
   "cell_type": "code",
   "execution_count": 1,
   "metadata": {
    "colab": {},
    "colab_type": "code",
    "id": "-y4pB6br0DD_"
   },
   "outputs": [
    {
     "name": "stdout",
     "output_type": "stream",
     "text": [
      "Digite o lado do quadrado: 5\n",
      "A área do círculo é: 25.0\n"
     ]
    }
   ],
   "source": [
    "lado = float(input(\"Digite o lado do quadrado: \"))\n",
    "area = lado ** 2\n",
    "\n",
    "print(f\"A área do círculo é: {area}\")"
   ]
  },
  {
   "cell_type": "markdown",
   "metadata": {
    "colab_type": "text",
    "id": "Vj4OXsJQziu_"
   },
   "source": [
    "Crie um algoritmo em Python que pergunte quanto você ganha por hora e o número de horas trabalhadas no mês. Calcule e mostre o total do seu salário no referido mês.\n"
   ]
  },
  {
   "cell_type": "code",
   "execution_count": 11,
   "metadata": {
    "colab": {},
    "colab_type": "code",
    "id": "RmApGpg30D00"
   },
   "outputs": [
    {
     "name": "stdout",
     "output_type": "stream",
     "text": [
      "Qual seu salário por hora: 25\n",
      "Total de horas trabalhada (inteiro): 200\n",
      "Seu salário no mês será de R$5,000.00\n"
     ]
    }
   ],
   "source": [
    "salario = float(input(\"Qual seu salário por hora: \"))\n",
    "horas = int(input(\"Total de horas trabalhada (inteiro): \"))\n",
    "salario_mensal = salario * horas\n",
    "\n",
    "print(f\"Seu salário no mês será de R${salario_mensal:,.2f}\")"
   ]
  },
  {
   "cell_type": "markdown",
   "metadata": {
    "colab_type": "text",
    "id": "e7id8Ewgzlow"
   },
   "source": [
    "Crie um algoritmo em Python que peça a temperatura em graus Farenheit, transforme e mostre a temperatura em graus Celsius.\n",
    "C = (5 * (F-32) / 9)."
   ]
  },
  {
   "cell_type": "code",
   "execution_count": 13,
   "metadata": {
    "colab": {},
    "colab_type": "code",
    "id": "Kl0ainsv0Eif"
   },
   "outputs": [
    {
     "name": "stdout",
     "output_type": "stream",
     "text": [
      "Digite a temperatura em Farenheit: 57\n",
      "A temperatura em Celsius é 13.9\n"
     ]
    }
   ],
   "source": [
    "farenheit = float(input(\"Digite a temperatura em Farenheit: \"))\n",
    "celsius = (farenheit - 32) / 1.8\n",
    "\n",
    "print(f\"A temperatura em Celsius é {celsius:.1f}\")"
   ]
  },
  {
   "cell_type": "markdown",
   "metadata": {
    "colab_type": "text",
    "id": "mFCgXRPaznno"
   },
   "source": [
    "Crie um algoritmo em Python que peça a temperatura em graus Celsius, transforme e mostre em graus Farenheit."
   ]
  },
  {
   "cell_type": "code",
   "execution_count": 16,
   "metadata": {
    "colab": {},
    "colab_type": "code",
    "id": "xEAAHRi00FS8"
   },
   "outputs": [
    {
     "name": "stdout",
     "output_type": "stream",
     "text": [
      "Digite a temperatura em Celsius: 21\n",
      "A temperatura em Farenheit é 69.8\n"
     ]
    }
   ],
   "source": [
    "celsius = float(input(\"Digite a temperatura em Celsius: \"))\n",
    "farenheit = celsius * 1.8 + 32\n",
    "\n",
    "print(f\"A temperatura em Farenheit é {farenheit:.1f}\")"
   ]
  },
  {
   "cell_type": "markdown",
   "metadata": {
    "colab_type": "text",
    "id": "j3fdhu-8zqu9"
   },
   "source": [
    "Crie um algoritmo em Python que peça 2 números inteiros e um número real. Calcule e mostre:\n",
    "* a soma do dobro do primeiro com metade do segundo .\n",
    "* a soma do triplo do primeiro com o terceiro.\n",
    "* o terceiro elevado ao cubo."
   ]
  },
  {
   "cell_type": "code",
   "execution_count": 23,
   "metadata": {
    "colab": {},
    "colab_type": "code",
    "id": "ZEqZrKjt0F5B"
   },
   "outputs": [
    {
     "name": "stdout",
     "output_type": "stream",
     "text": [
      "Digite um número inteiro: 12\n",
      "Digite um número inteiro: 7\n",
      "Digite um número real: 4.5\n",
      "\n",
      "A soma do dobro do primeiro com metade do segundo: 27.5\n",
      "A soma do triplo do primeiro com o terceiro: 40.5\n",
      "O terceiro elevado ao cubo: 91.1\n"
     ]
    }
   ],
   "source": [
    "int1 = int(input(\"Digite um número inteiro: \"))\n",
    "int2 = int(input(\"Digite um número inteiro: \"))\n",
    "real = float(input(\"Digite um número real: \"))\n",
    "\n",
    "exer1 = (int1 * 2) + (int2 / 2)\n",
    "exer2 = int1 * 3 + real\n",
    "exer3 = real ** 3\n",
    "\n",
    "print()\n",
    "print(f\"A soma do dobro do primeiro com metade do segundo: {exer1:.1f}\")\n",
    "print(f\"A soma do triplo do primeiro com o terceiro: {exer2:.1f}\")\n",
    "print(f\"O terceiro elevado ao cubo: {exer3:.1f}\")"
   ]
  }
 ],
 "metadata": {
  "colab": {
   "name": "Fase1.ipynb",
   "provenance": []
  },
  "kernelspec": {
   "display_name": "Python 3 (ipykernel)",
   "language": "python",
   "name": "python3"
  },
  "language_info": {
   "codemirror_mode": {
    "name": "ipython",
    "version": 3
   },
   "file_extension": ".py",
   "mimetype": "text/x-python",
   "name": "python",
   "nbconvert_exporter": "python",
   "pygments_lexer": "ipython3",
   "version": "3.9.7"
  }
 },
 "nbformat": 4,
 "nbformat_minor": 1
}
