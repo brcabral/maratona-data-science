{
 "cells": [
  {
   "cell_type": "markdown",
   "metadata": {
    "colab_type": "text",
    "id": "CYNAmoj4zSXl"
   },
   "source": [
    "Crie um algoritmo em Python que peça uma nota, entre zero e 100. Mostre uma mensagem caso o valor seja inválido e continue pedindo até que o usuário informe um valor válido."
   ]
  },
  {
   "cell_type": "code",
   "execution_count": 13,
   "metadata": {
    "colab": {},
    "colab_type": "code",
    "id": "ViAfpy3GzPN-"
   },
   "outputs": [
    {
     "name": "stdout",
     "output_type": "stream",
     "text": [
      "Digite uma nota: -5\n",
      "Nota inválida. Digite uma nota entre 0 e 100\n",
      "Digite uma nota: 150\n",
      "Nota inválida. Digite uma nota entre 0 e 100\n",
      "Digite uma nota: 85\n",
      "\n",
      "A nota digitada foi 85\n"
     ]
    }
   ],
   "source": [
    "nota = -1\n",
    "\n",
    "while nota < 0 or nota > 100:\n",
    "    nota = int(input(\"Digite uma nota: \"))\n",
    "    \n",
    "    if nota < 0 or nota > 100:\n",
    "        print(\"Nota inválida. Digite uma nota entre 0 e 100\")\n",
    "\n",
    "print()\n",
    "print(f\"A nota digitada foi {nota}\")"
   ]
  },
  {
   "cell_type": "markdown",
   "metadata": {
    "colab_type": "text",
    "id": "gdMis92izSmQ"
   },
   "source": [
    "Crie um algoritmo em Python que leia um nome de usuário e a sua senha e não aceite a senha igual ao nome do usuário, mostrando uma mensagem de erro e voltando a pedir as informações.<br>"
   ]
  },
  {
   "cell_type": "code",
   "execution_count": 9,
   "metadata": {
    "colab": {},
    "colab_type": "code",
    "id": "BFpWkdCBz_zh"
   },
   "outputs": [
    {
     "name": "stdout",
     "output_type": "stream",
     "text": [
      "Digite o nome do usuário: breno\n",
      "Digite a senha: breno\n",
      "O nome de usuário e senha não podem ser iguais\n",
      "Digite o nome do usuário: breno\n",
      "Digite a senha: 123456\n"
     ]
    }
   ],
   "source": [
    "username = \"\"\n",
    "password = \"\"\n",
    "\n",
    "while username == password:\n",
    "    username = input(\"Digite o nome do usuário: \")\n",
    "    password = input(\"Digite a senha: \")\n",
    "\n",
    "    if username == password:\n",
    "        print(\"O nome de usuário e senha não podem ser iguais\")"
   ]
  },
  {
   "cell_type": "markdown",
   "metadata": {
    "colab_type": "text",
    "id": "E_0l_Vx6zSo2"
   },
   "source": [
    "Crie um algoritmo em Python que leia e valide as seguintes informações:\n",
    "* Nome: maior que 3 caracteres;\n",
    "* Idade: entre 0 e 150;\n",
    "* Salário: maior que zero;\n",
    "* Sexo: 'f' ou 'm';\n",
    "* Estado Civil: 's', 'c', 'v', 'd';"
   ]
  },
  {
   "cell_type": "code",
   "execution_count": 47,
   "metadata": {
    "colab": {},
    "colab_type": "code",
    "id": "KwJf7XZS0AZW"
   },
   "outputs": [
    {
     "name": "stdout",
     "output_type": "stream",
     "text": [
      "Digite seu nome: Hugo\n",
      "Digite sua idade: 23\n",
      "Digite seu salário: 1500\n",
      "Digite o seu sexo: m\n",
      "Digite seu estado civil: s\n",
      "\n"
     ]
    }
   ],
   "source": [
    "nome = input(\"Digite seu nome: \")\n",
    "idade = int(input(\"Digite sua idade: \"))\n",
    "salario = float(input(\"Digite seu salário: \"))\n",
    "sexo = input(\"Digite o seu sexo: \")\n",
    "est_civil = input(\"Digite seu estado civil: \")\n",
    "print()\n",
    "\n",
    "if len(nome) <= 3:\n",
    "    print(\"O nome deve conter mais que 3 caracteres.\")\n",
    "\n",
    "if idade < 0 or idade > 150:\n",
    "    print(\"A idade deve estar entre 0 e 150 anos.\")\n",
    "\n",
    "if salario < 0:\n",
    "    print(\"O salário deve ser maior que zero.\")\n",
    "\n",
    "if sexo.lower() != \"f\" and sexo.lower() != \"m\":\n",
    "    print(\"Você deve digitar f (feminino) ou m (masculino).\")\n",
    "\n",
    "if est_civil.lower() != \"s\" and est_civil.lower() != \"c\" and est_civil.lower() != \"v\" and est_civil.lower() != \"d\":\n",
    "    print(\"Você deve digitar s (solteiro), c (casado), v (viúvo) ou d (divorciado).\")"
   ]
  },
  {
   "cell_type": "markdown",
   "metadata": {
    "colab_type": "text",
    "id": "1i4VCiiczSrL"
   },
   "source": [
    "Supondo que a população de um país A seja da ordem de 80000 habitantes com uma taxa anual de crescimento de 3% e que a população de B seja 200000 habitantes com uma taxa de crescimento de 1.5%.<br><br> Crie um algoritmo em Python que calcule e escreva o número de anos necessários para que a população do país A ultrapasse ou iguale a população do país B, mantidas as taxas de crescimento."
   ]
  },
  {
   "cell_type": "code",
   "execution_count": 10,
   "metadata": {
    "colab": {},
    "colab_type": "code",
    "id": "yoW67hjA0BHy"
   },
   "outputs": [
    {
     "name": "stdout",
     "output_type": "stream",
     "text": [
      "Ano: 1 | Pais A: 82400 | Pais B: 202999\n",
      "Ano: 2 | Pais A: 84872 | Pais B: 206044\n",
      "Ano: 3 | Pais A: 87418 | Pais B: 209135\n",
      "Ano: 4 | Pais A: 90040 | Pais B: 212272\n",
      "Ano: 5 | Pais A: 92741 | Pais B: 215456\n",
      "Ano: 6 | Pais A: 95524 | Pais B: 218688\n",
      "Ano: 7 | Pais A: 98389 | Pais B: 221968\n",
      "Ano: 8 | Pais A: 101341 | Pais B: 225298\n",
      "Ano: 9 | Pais A: 104381 | Pais B: 228677\n",
      "Ano: 10 | Pais A: 107513 | Pais B: 232108\n",
      "Ano: 11 | Pais A: 110738 | Pais B: 235589\n",
      "Ano: 12 | Pais A: 114060 | Pais B: 239123\n",
      "Ano: 13 | Pais A: 117482 | Pais B: 242710\n",
      "Ano: 14 | Pais A: 121007 | Pais B: 246351\n",
      "Ano: 15 | Pais A: 124637 | Pais B: 250046\n",
      "Ano: 16 | Pais A: 128376 | Pais B: 253797\n",
      "Ano: 17 | Pais A: 132227 | Pais B: 257604\n",
      "Ano: 18 | Pais A: 136194 | Pais B: 261468\n",
      "Ano: 19 | Pais A: 140280 | Pais B: 265390\n",
      "Ano: 20 | Pais A: 144488 | Pais B: 269371\n",
      "Ano: 21 | Pais A: 148823 | Pais B: 273411\n",
      "Ano: 22 | Pais A: 153288 | Pais B: 277512\n",
      "Ano: 23 | Pais A: 157886 | Pais B: 281675\n",
      "Ano: 24 | Pais A: 162623 | Pais B: 285900\n",
      "Ano: 25 | Pais A: 167502 | Pais B: 290189\n",
      "Ano: 26 | Pais A: 172527 | Pais B: 294541\n",
      "Ano: 27 | Pais A: 177703 | Pais B: 298960\n",
      "Ano: 28 | Pais A: 183034 | Pais B: 303444\n",
      "Ano: 29 | Pais A: 188525 | Pais B: 307996\n",
      "Ano: 30 | Pais A: 194180 | Pais B: 312616\n",
      "Ano: 31 | Pais A: 200006 | Pais B: 317305\n",
      "Ano: 32 | Pais A: 206006 | Pais B: 322064\n",
      "Ano: 33 | Pais A: 212186 | Pais B: 326895\n",
      "Ano: 34 | Pais A: 218552 | Pais B: 331799\n",
      "Ano: 35 | Pais A: 225108 | Pais B: 336776\n",
      "Ano: 36 | Pais A: 231862 | Pais B: 341827\n",
      "Ano: 37 | Pais A: 238818 | Pais B: 346955\n",
      "Ano: 38 | Pais A: 245982 | Pais B: 352159\n",
      "Ano: 39 | Pais A: 253362 | Pais B: 357442\n",
      "Ano: 40 | Pais A: 260963 | Pais B: 362803\n",
      "Ano: 41 | Pais A: 268791 | Pais B: 368245\n",
      "Ano: 42 | Pais A: 276855 | Pais B: 373769\n",
      "Ano: 43 | Pais A: 285161 | Pais B: 379375\n",
      "Ano: 44 | Pais A: 293716 | Pais B: 385066\n",
      "Ano: 45 | Pais A: 302527 | Pais B: 390842\n",
      "Ano: 46 | Pais A: 311603 | Pais B: 396705\n",
      "Ano: 47 | Pais A: 320951 | Pais B: 402655\n",
      "Ano: 48 | Pais A: 330580 | Pais B: 408695\n",
      "Ano: 49 | Pais A: 340497 | Pais B: 414826\n",
      "Ano: 50 | Pais A: 350712 | Pais B: 421048\n",
      "Ano: 51 | Pais A: 361233 | Pais B: 427364\n",
      "Ano: 52 | Pais A: 372070 | Pais B: 433774\n",
      "Ano: 53 | Pais A: 383232 | Pais B: 440281\n",
      "Ano: 54 | Pais A: 394729 | Pais B: 446885\n",
      "Ano: 55 | Pais A: 406571 | Pais B: 453588\n",
      "Ano: 56 | Pais A: 418769 | Pais B: 460392\n",
      "Ano: 57 | Pais A: 431332 | Pais B: 467298\n",
      "Ano: 58 | Pais A: 444272 | Pais B: 474307\n",
      "Ano: 59 | Pais A: 457600 | Pais B: 481422\n",
      "Ano: 60 | Pais A: 471328 | Pais B: 488643\n",
      "Ano: 61 | Pais A: 485468 | Pais B: 495973\n",
      "Ano: 62 | Pais A: 500032 | Pais B: 503413\n",
      "Ano: 63 | Pais A: 515033 | Pais B: 510964\n",
      "Demorará 63 anos para o país A ter uma população maior ou igual ao país A\n"
     ]
    }
   ],
   "source": [
    "populacao_a = 80_000\n",
    "crescimento_a = 1.03\n",
    "populacao_b = 200_000\n",
    "crescimento_b = 1.015\n",
    "ano = 0\n",
    "\n",
    "while populacao_a <= populacao_b:\n",
    "    populacao_a = populacao_a * crescimento_a\n",
    "    populacao_b = populacao_b * crescimento_b\n",
    "    ano += 1\n",
    "    # print(f\"Ano: {ano} | Pais A: {int(populacao_a)} | Pais B: {int(populacao_b)}\")\n",
    "\n",
    "print(f\"Demorará {ano} anos para o país A ter uma população maior ou igual ao país A\")"
   ]
  },
  {
   "cell_type": "markdown",
   "metadata": {
    "colab_type": "text",
    "id": "4ep7kezvzStO"
   },
   "source": [
    "Desenvolva um gerador de tabuada, capaz de gerar a tabuada de qualquer número inteiro entre 1 a 10. O usuário deve informar de qual numero ele deseja ver a tabuada. A saída deve ser conforme o exemplo abaixo:\n",
    "Tabuada de 5:<br>\n",
    "5 X 1 = 5<br>\n",
    "5 X 2 = 10<br>\n",
    "...<br>\n",
    "5 X 10 = 50<br>"
   ]
  },
  {
   "cell_type": "code",
   "execution_count": 49,
   "metadata": {
    "colab": {},
    "colab_type": "code",
    "id": "6K6IHWdr0Blt"
   },
   "outputs": [
    {
     "name": "stdout",
     "output_type": "stream",
     "text": [
      "Digite um número inteiro entre 1 e 10: 5\n",
      "\n",
      "5 x 0 = 0\n",
      "5 x 1 = 5\n",
      "5 x 2 = 10\n",
      "5 x 3 = 15\n",
      "5 x 4 = 20\n",
      "5 x 5 = 25\n",
      "5 x 6 = 30\n",
      "5 x 7 = 35\n",
      "5 x 8 = 40\n",
      "5 x 9 = 45\n",
      "5 x 10 = 50\n"
     ]
    }
   ],
   "source": [
    "numero = int(input(\"Digite um número inteiro entre 1 e 10: \"))\n",
    "\n",
    "print()\n",
    "for i in range(11):\n",
    "    print(f\"{numero} x {i} = {numero * i}\")"
   ]
  },
  {
   "cell_type": "markdown",
   "metadata": {
    "colab_type": "text",
    "id": "u6__NaXqzeYg"
   },
   "source": [
    "Crie um algoritmo em Python que leia três números e mostre o maior e o menor deles."
   ]
  },
  {
   "cell_type": "code",
   "execution_count": 2,
   "metadata": {
    "colab": {},
    "colab_type": "code",
    "id": "mm2L7g3x0Cfx"
   },
   "outputs": [
    {
     "name": "stdout",
     "output_type": "stream",
     "text": [
      "Digite o 1º número: 27\n",
      "Digite o 2º número: 8\n",
      "Digite o 3º número: 15\n",
      "\n",
      "O menor número digitado foi: 8\n",
      "O maior número digitado foi: 27\n"
     ]
    }
   ],
   "source": [
    "numeros = []\n",
    "\n",
    "for i in range(1,4):\n",
    "    numero = int(input(f\"Digite o {i}º número: \"))\n",
    "    numeros.append(numero)\n",
    "\n",
    "print()\n",
    "print(f\"O menor número digitado foi: {min(numeros)}\")\n",
    "print(f\"O maior número digitado foi: {max(numeros)}\")"
   ]
  },
  {
   "cell_type": "markdown",
   "metadata": {
    "colab_type": "text",
    "id": "lIlfG-ATzgOr"
   },
   "source": [
    "Crie um algoritmo em Python que peça 2 números, base e expoente, calcule e mostre o primeiro número elevado ao segundo número. Não utilize a função de potência da linguagem."
   ]
  },
  {
   "cell_type": "code",
   "execution_count": 41,
   "metadata": {
    "colab": {},
    "colab_type": "code",
    "id": "-y4pB6br0DD_"
   },
   "outputs": [
    {
     "name": "stdout",
     "output_type": "stream",
     "text": [
      "Digite um número (base): 5\n",
      "Digite um número (expoente): 3\n",
      "5 elevado a 3 é igual à 125\n"
     ]
    }
   ],
   "source": [
    "base = int(input(\"Digite um número (base): \"))\n",
    "expoente = int(input(\"Digite um número (expoente): \"))\n",
    "i = 1\n",
    "total = 1\n",
    "\n",
    "while i <= expoente:\n",
    "    total = total * base\n",
    "    i += 1\n",
    "\n",
    "print(f\"{base} elevado a {expoente} é igual à {total}\")"
   ]
  },
  {
   "cell_type": "markdown",
   "metadata": {
    "colab_type": "text",
    "id": "Vj4OXsJQziu_"
   },
   "source": [
    "Crie um algoritmo em Python que peça 10 números inteiros, calcule e mostre a quantidade de números pares e a quantidade de números impares."
   ]
  },
  {
   "cell_type": "code",
   "execution_count": 32,
   "metadata": {
    "colab": {},
    "colab_type": "code",
    "id": "RmApGpg30D00"
   },
   "outputs": [
    {
     "name": "stdout",
     "output_type": "stream",
     "text": [
      "Digite o 1º número inteiro: 4\n",
      "Digite o 2º número inteiro: 6\n",
      "Digite o 3º número inteiro: 7\n",
      "Digite o 4º número inteiro: 8\n",
      "Digite o 5º número inteiro: 12\n",
      "Digite o 6º número inteiro: 27\n",
      "Digite o 7º número inteiro: 10\n",
      "Digite o 8º número inteiro: 1\n",
      "Digite o 9º número inteiro: 21\n",
      "Digite o 10º número inteiro: 22\n",
      "\n",
      "O total de números pares é 6\n",
      "O total de números impares é 4\n"
     ]
    }
   ],
   "source": [
    "numeros = []\n",
    "pares = 0\n",
    "impares = 0\n",
    "\n",
    "for i in range(1, 11):\n",
    "    numero = int(input(f\"Digite o {i}º número inteiro: \"))\n",
    "    numeros.append(numero)\n",
    "\n",
    "for num in numeros:\n",
    "    if num % 2 == 0:\n",
    "        pares += 1\n",
    "    else:\n",
    "        impares += 1\n",
    "\n",
    "print()\n",
    "print(f\"O total de números pares é {pares}\")\n",
    "print(f\"O total de números impares é {impares}\")"
   ]
  },
  {
   "cell_type": "markdown",
   "metadata": {
    "colab_type": "text",
    "id": "e7id8Ewgzlow"
   },
   "source": [
    "Um funcionário de uma empresa recebe aumento salarial anualmente: Sabe-se que:\n",
    "Esse funcionário foi contratado em 1995, com salário inicial de R$ 1.000,00;\n",
    "Em 1996 recebeu aumento de 1,5% sobre seu salário inicial;\n",
    "A partir de 1997 (inclusive), os aumentos salariais sempre correspondem ao dobro do percentual do ano anterior. Crie um algoritmo em Python que determine o salário atual desse funcionário. Após concluir isto, altere o programa permitindo que o usuário digite o salário inicial do funcionário."
   ]
  },
  {
   "cell_type": "code",
   "execution_count": 75,
   "metadata": {
    "colab": {},
    "colab_type": "code",
    "id": "Kl0ainsv0Eif"
   },
   "outputs": [
    {
     "name": "stdout",
     "output_type": "stream",
     "text": [
      "Digite o salário do funcionário: 1000\n",
      "ano: 1996, reajuste: 1.5%\n",
      "ano: 1997, reajuste: 3.0%\n",
      "ano: 1998, reajuste: 6.0%\n",
      "ano: 1999, reajuste: 12.0%\n",
      "ano: 2000, reajuste: 24.0%\n",
      "ano: 2001, reajuste: 48.0%\n",
      "ano: 2002, reajuste: 96.0%\n",
      "ano: 2003, reajuste: 192.0%\n",
      "ano: 2004, reajuste: 384.0%\n",
      "ano: 2005, reajuste: 768.0%\n",
      "ano: 2006, reajuste: 1,536.0%\n",
      "ano: 2007, reajuste: 3,072.0%\n",
      "ano: 2008, reajuste: 6,144.0%\n",
      "ano: 2009, reajuste: 12,288.0%\n",
      "ano: 2010, reajuste: 24,576.0%\n",
      "ano: 2011, reajuste: 49,152.0%\n",
      "ano: 2012, reajuste: 98,304.0%\n",
      "ano: 2013, reajuste: 196,608.0%\n",
      "ano: 2014, reajuste: 393,216.0%\n",
      "ano: 2015, reajuste: 786,432.0%\n",
      "ano: 2016, reajuste: 1,572,864.0%\n",
      "ano: 2017, reajuste: 3,145,728.0%\n",
      "ano: 2018, reajuste: 6,291,456.0%\n",
      "ano: 2019, reajuste: 12,582,912.0%\n",
      "ano: 2020, reajuste: 25,165,824.0%\n",
      "ano: 2021, reajuste: 50,331,648.0%\n",
      "ano: 2022, reajuste: 100,663,296.0%\n",
      "\n",
      "O salário atual é de R$7,991,153,224,284,124,308,525,120,353,457,584,705,599,324,422,584,199,349,980,608,069,632.00\n"
     ]
    }
   ],
   "source": [
    "# salario = 1_000\n",
    "reajuste = 1.5\n",
    "ano_inicial = 1996\n",
    "ano_atual = 2022\n",
    "\n",
    "salario = float(input(\"Digite o salário do funcionário: \"))\n",
    "\n",
    "for i in range(ano_inicial, ano_atual + 1):\n",
    "    salario = salario * (1 + reajuste / 100)\n",
    "    print(f\"ano: {i}, reajuste: {reajuste:,.1f}%\")\n",
    "    # print(f\"ano: {i}, reajuste: {reajuste:,.1f}, salario: R$ {salario:,.2f}\")\n",
    "    reajuste *= 2\n",
    "\n",
    "print()\n",
    "print(f\"O salário atual é de R${salario:,.2f}\")"
   ]
  },
  {
   "cell_type": "markdown",
   "metadata": {
    "colab_type": "text",
    "id": "5u9i4kzm-itX"
   },
   "source": [
    "Crie um algoritmo em Python com uma função que necessite de um argumento. A função retorna o valor de caractere ‘P’, se seu argumento for positivo, e ‘N’, se seu argumento for zero ou negativo."
   ]
  },
  {
   "cell_type": "code",
   "execution_count": 86,
   "metadata": {
    "colab": {},
    "colab_type": "code",
    "id": "WNt8CLa2-rGt"
   },
   "outputs": [
    {
     "name": "stdout",
     "output_type": "stream",
     "text": [
      "Retorno da função: P\n"
     ]
    }
   ],
   "source": [
    "def f_verifica_numero(x):\n",
    "    if x > 0:\n",
    "        return \"P\"\n",
    "    else:\n",
    "        return \"N\"\n",
    "\n",
    "retorno = f_verifica_numero(49)\n",
    "print(f\"Retorno da função: {retorno}\")"
   ]
  },
  {
   "cell_type": "markdown",
   "metadata": {
    "colab_type": "text",
    "id": "CHiYMSOJ-rSY"
   },
   "source": [
    "Construa uma função que receba uma data no formato DD/MM/AAAA e devolva uma string no formato D de mesPorExtenso de AAAA. Opcionalmente, valide a data e retorne NULL caso a data seja inválida."
   ]
  },
  {
   "cell_type": "code",
   "execution_count": 6,
   "metadata": {
    "colab": {},
    "colab_type": "code",
    "id": "6Ukxx6gQ-r4-"
   },
   "outputs": [
    {
     "name": "stdout",
     "output_type": "stream",
     "text": [
      "23 de Maio de 2022\n"
     ]
    }
   ],
   "source": [
    "meses = {\"01\": \"Janeiro\", \"02\": \"Fevereiro\", \"03\": \"Março\", \"04\": \"Abril\", \"05\": \"Maio\", \"06\": \"Junho\", \"07\": \"Julho\", \"08\": \"Agosto\", \"09\": \"Setembro\", \"10\": \"Outubro\", \"11\": \"Novembro\", \"12\": \"Dezembro\"}\n",
    "\n",
    "def process_date(date):\n",
    "    if date_is_valid(date):\n",
    "        day = date.split(\"/\")[0]\n",
    "        month = date.split(\"/\")[1]\n",
    "        year = date.split(\"/\")[2]\n",
    "        \n",
    "        print(f\"{day} de {meses.get(month)} de {year}\")\n",
    "    else:\n",
    "        print(\"else\")\n",
    "\n",
    "def date_is_valid(date):\n",
    "    clear_date = date.replace(\"/\", \"\")\n",
    "\n",
    "    if len(date) != 10:\n",
    "        print(\"Formato da data inválido(1). Formato esperado DD/MM/AAAA\")\n",
    "        return False\n",
    "    elif len(clear_date) != 8:\n",
    "        print(\"Formato da data inválido(2). Formato esperado DD/MM/AAAA\")\n",
    "        return False\n",
    "    elif clear_date.isnumeric() == False:\n",
    "        print(\"A data deve conter apenas número. Formato esperado DD/MM/AAAA\")\n",
    "        return False\n",
    "\n",
    "    return True\n",
    "\n",
    "retorno = process_date(\"23/05/2022\")\n"
   ]
  },
  {
   "cell_type": "markdown",
   "metadata": {
    "colab_type": "text",
    "id": "AzUYbZ8A-zj7"
   },
   "source": [
    "Crie uma classe que modele uma pessoa:<br>\n",
    "\n",
    "Atributos: nome, idade, peso e altura<br>\n",
    "Métodos: Envelhercer, engordar, emagrecer, crescer.<br>\n",
    "<br>Obs: Por padrão, a cada ano que nossa pessoa envelhece, sendo a idade dela menor que 21 anos, ela deve crescer 0,5 cm."
   ]
  },
  {
   "cell_type": "code",
   "execution_count": 7,
   "metadata": {
    "colab": {},
    "colab_type": "code",
    "id": "qobhV-FC-zRS"
   },
   "outputs": [],
   "source": [
    "class Pessoa:\n",
    "    def __init__(self, nome, idade, peso, altura):\n",
    "        self.nome = nome\n",
    "        self.idade = idade\n",
    "        self.peso = peso\n",
    "        self.altura = altura\n",
    "        \n",
    "    def envelhecer(self):\n",
    "        pass\n",
    "    \n",
    "    def engordar(self):\n",
    "        pass\n",
    "    \n",
    "    def emagrecer(self):\n",
    "        pass\n",
    "    \n",
    "    def crescer(self):\n",
    "        if idade < 21:\n",
    "            self.altura = altura + 0.5"
   ]
  }
 ],
 "metadata": {
  "colab": {
   "name": "Fase3.ipynb",
   "provenance": []
  },
  "kernelspec": {
   "display_name": "Python 3 (ipykernel)",
   "language": "python",
   "name": "python3"
  },
  "language_info": {
   "codemirror_mode": {
    "name": "ipython",
    "version": 3
   },
   "file_extension": ".py",
   "mimetype": "text/x-python",
   "name": "python",
   "nbconvert_exporter": "python",
   "pygments_lexer": "ipython3",
   "version": "3.9.7"
  }
 },
 "nbformat": 4,
 "nbformat_minor": 1
}
