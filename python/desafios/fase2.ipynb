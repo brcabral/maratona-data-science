{
 "cells": [
  {
   "cell_type": "markdown",
   "metadata": {
    "colab_type": "text",
    "id": "CYNAmoj4zSXl"
   },
   "source": [
    "Crie um algoritmo em Python que peça 2 números e imprima o maior deles."
   ]
  },
  {
   "cell_type": "code",
   "execution_count": 1,
   "metadata": {
    "colab": {},
    "colab_type": "code",
    "id": "ViAfpy3GzPN-"
   },
   "outputs": [
    {
     "name": "stdout",
     "output_type": "stream",
     "text": [
      "Digite o primeiro número: 12\n",
      "Digite o segundo número: 7\n",
      "12 é maior\n"
     ]
    }
   ],
   "source": [
    "num1 = int(input(\"Digite o primeiro número: \"))\n",
    "num2 = int(input(\"Digite o segundo número: \"))\n",
    "\n",
    "if num1 > num2:\n",
    "    print(f\"{num1} é maior\")\n",
    "else:\n",
    "    print(f\"{num2} é maior\")"
   ]
  },
  {
   "cell_type": "markdown",
   "metadata": {
    "colab_type": "text",
    "id": "gdMis92izSmQ"
   },
   "source": [
    "Crie um algoritmo em Python que peça um valor e mostre na tela se o valor é positivo ou negativo."
   ]
  },
  {
   "cell_type": "code",
   "execution_count": 4,
   "metadata": {
    "colab": {},
    "colab_type": "code",
    "id": "BFpWkdCBz_zh"
   },
   "outputs": [
    {
     "name": "stdout",
     "output_type": "stream",
     "text": [
      "Digite um número inteiro: 4\n",
      "O número digitado(4) é positivo.\n"
     ]
    }
   ],
   "source": [
    "numero = int(input(\"Digite um número inteiro: \"))\n",
    "if numero >= 0:\n",
    "    print(f\"O número digitado({numero}) é positivo.\")\n",
    "else:\n",
    "    print(f\"O número digitado({numero}) é negativo.\")"
   ]
  },
  {
   "cell_type": "markdown",
   "metadata": {
    "colab_type": "text",
    "id": "E_0l_Vx6zSo2"
   },
   "source": [
    "Crie um algoritmo em Python que verifique se uma letra digitada é vogal ou consoante."
   ]
  },
  {
   "cell_type": "code",
   "execution_count": 22,
   "metadata": {
    "colab": {},
    "colab_type": "code",
    "id": "KwJf7XZS0AZW"
   },
   "outputs": [
    {
     "name": "stdout",
     "output_type": "stream",
     "text": [
      "Digite uma letra: b\n",
      "A letra digitada (b) é uma consoante.\n"
     ]
    }
   ],
   "source": [
    "letra = input(\"Digite uma letra: \")\n",
    "vogais = \"aeiou\"\n",
    "\n",
    "if letra.lower() in vogais:\n",
    "    print(f\"A letra digitada ({letra}) é uma vogal.\")\n",
    "else:\n",
    "    print(f\"A letra digitada ({letra}) é uma consoante.\")"
   ]
  },
  {
   "cell_type": "markdown",
   "metadata": {
    "colab_type": "text",
    "id": "1i4VCiiczSrL"
   },
   "source": [
    "Faça um programa para a leitura de duas notas parciais de um aluno. O programa deve calcular a média alcançada por aluno e apresentar:\n",
    "* \"Aprovado\", se a média alcançada for maior ou igual a sete;\n",
    "* \"Reprovado\", se a média for menor do que sete;\n",
    "* \"Aprovado com Distinção\", se a média for igual a 10."
   ]
  },
  {
   "cell_type": "code",
   "execution_count": 27,
   "metadata": {
    "colab": {},
    "colab_type": "code",
    "id": "yoW67hjA0BHy"
   },
   "outputs": [
    {
     "name": "stdout",
     "output_type": "stream",
     "text": [
      "Digite a primeira nota: 9\n",
      "Digite a segunda nota: 7\n",
      "Média: 8.0. Aprovado!\n"
     ]
    }
   ],
   "source": [
    "nota1 = float(input(\"Digite a primeira nota: \"))\n",
    "nota2 = float(input(\"Digite a segunda nota: \"))\n",
    "media = (nota1 + nota2) / 2\n",
    "\n",
    "if media == 10:\n",
    "    print(f\"Média: {media}. Aprovado com distinção!\")\n",
    "elif media >= 7:\n",
    "    print(f\"Média: {media}. Aprovado!\")\n",
    "else:\n",
    "    print(f\"Média: {media}. Reprovado!\")"
   ]
  },
  {
   "cell_type": "markdown",
   "metadata": {
    "colab_type": "text",
    "id": "4ep7kezvzStO"
   },
   "source": [
    "Crie um algoritmo em Python que leia três números e mostre o maior deles."
   ]
  },
  {
   "cell_type": "code",
   "execution_count": 38,
   "metadata": {
    "colab": {},
    "colab_type": "code",
    "id": "6K6IHWdr0Blt"
   },
   "outputs": [
    {
     "name": "stdout",
     "output_type": "stream",
     "text": [
      "Digite o primeiro número: 27\n",
      "Digite o segundo número: 11\n",
      "Digite o terceiro número: 20\n",
      "O primeiro número digitado(27) é o maior.\n"
     ]
    }
   ],
   "source": [
    "num1 = int(input(\"Digite o primeiro número: \"))\n",
    "num2 = int(input(\"Digite o segundo número: \"))\n",
    "num3 = int(input(\"Digite o terceiro número: \"))\n",
    "\n",
    "if num1 > num2 and num1 > num3:\n",
    "    print(f\"O primeiro número digitado({num1}) é o maior.\")\n",
    "elif num2 > num1 and num2 > num3:\n",
    "    print(f\"O segundo número digitado({num2}) é o maior.\")\n",
    "else:\n",
    "    print(f\"O terceiro número digitado({num3}) é o maior.\")"
   ]
  },
  {
   "cell_type": "markdown",
   "metadata": {
    "colab_type": "text",
    "id": "u6__NaXqzeYg"
   },
   "source": [
    "Crie um algoritmo em Python que leia três números e mostre o maior e o menor deles."
   ]
  },
  {
   "cell_type": "code",
   "execution_count": 49,
   "metadata": {
    "colab": {},
    "colab_type": "code",
    "id": "mm2L7g3x0Cfx"
   },
   "outputs": [
    {
     "name": "stdout",
     "output_type": "stream",
     "text": [
      "Digite o 1º número: 12\n",
      "Digite o 2º número: 23\n",
      "Digite o 3º número: 17\n",
      "\n",
      "O menor número digitado foi: 12\n",
      "O maior número digitado foi: 23\n"
     ]
    }
   ],
   "source": [
    "numeros = []\n",
    "\n",
    "for i in range(1,4):\n",
    "    numero = int(input(f\"Digite o {i}º número: \"))\n",
    "    numeros.append(numero)\n",
    "\n",
    "print()\n",
    "print(f\"O menor número digitado foi: {min(numeros)}\")\n",
    "print(f\"O maior número digitado foi: {max(numeros)}\")"
   ]
  },
  {
   "cell_type": "markdown",
   "metadata": {
    "colab_type": "text",
    "id": "lIlfG-ATzgOr"
   },
   "source": [
    "Faça um programa que pergunte o preço de 5 produtos e informe qual produto você deve comprar, sabendo que a decisão é sempre pelo mais barato."
   ]
  },
  {
   "cell_type": "code",
   "execution_count": 53,
   "metadata": {
    "colab": {},
    "colab_type": "code",
    "id": "-y4pB6br0DD_"
   },
   "outputs": [
    {
     "name": "stdout",
     "output_type": "stream",
     "text": [
      "Digite o 1º preço: 20\n",
      "Digite o 2º preço: 15\n",
      "Digite o 3º preço: 30\n",
      "Digite o 4º preço: 45\n",
      "Digite o 5º preço: 25\n",
      "\n",
      "Você deve comprar o produto de R$15.00.\n"
     ]
    }
   ],
   "source": [
    "lista_preco = []\n",
    "\n",
    "for i in range(1,6):\n",
    "    preco = float(input(f\"Digite o {i}º preço: \"))\n",
    "    lista_preco.append(preco)\n",
    "\n",
    "print()\n",
    "print(f\"Você deve comprar o produto de R${min(lista_preco):.2f}.\")"
   ]
  },
  {
   "cell_type": "markdown",
   "metadata": {
    "colab_type": "text",
    "id": "Vj4OXsJQziu_"
   },
   "source": [
    "Crie um algoritmo em Python que leia três números e mostre-os em ordem decrescente."
   ]
  },
  {
   "cell_type": "code",
   "execution_count": 57,
   "metadata": {
    "colab": {},
    "colab_type": "code",
    "id": "RmApGpg30D00"
   },
   "outputs": [
    {
     "name": "stdout",
     "output_type": "stream",
     "text": [
      "Digite o 1º número: 17\n",
      "Digite o 2º número: 11\n",
      "Digite o 3º número: 15\n",
      "\n",
      "Os números digitados em ordem decrescente é: [17, 15, 11]\n"
     ]
    }
   ],
   "source": [
    "numeros = []\n",
    "\n",
    "for i in range(1,4):\n",
    "    numero = int(input(f\"Digite o {i}º número: \"))\n",
    "    numeros.append(numero)\n",
    "\n",
    "print()\n",
    "print(f\"Os números digitados em ordem decrescente é: {sorted(numeros, reverse=True)}\")"
   ]
  },
  {
   "cell_type": "markdown",
   "metadata": {
    "colab_type": "text",
    "id": "e7id8Ewgzlow"
   },
   "source": [
    "As Organizações Mendéz resolveram dar um aumento de salário aos seus colaboradores e lhe contraram para desenvolver o programa que calculará os reajustes em Python. Faça um programa que receba o salário de um colaborador e o reajuste segundo o seguinte critério, baseado no salário atual:\n",
    "\n",
    "* salários entre 680,00 e 800,00 : aumento de 15%<br>\n",
    "* salários entre 800,00 e 2500,00 : aumento de 10%<br>\n",
    "* salários de 2500,00 em diante : aumento de 5% após o aumento ser realizado.\n",
    "\n",
    "Informe na tela:\n",
    "* o salário antes do reajuste;\n",
    "* o percentual de aumento aplicado;\n",
    "* o valor do aumento;\n",
    "* o novo salário, após o aumento."
   ]
  },
  {
   "cell_type": "code",
   "execution_count": 68,
   "metadata": {
    "colab": {},
    "colab_type": "code",
    "id": "Kl0ainsv0Eif"
   },
   "outputs": [
    {
     "name": "stdout",
     "output_type": "stream",
     "text": [
      "Digite o salário atual: 700\n",
      "\n",
      "O salário antes do reajuste era R$700.00\n",
      "O salário foi reajustado em 15%\n",
      "O valor do reajuste foi de R$105.00\n",
      "O salário após o reajuste era R$805.00\n"
     ]
    }
   ],
   "source": [
    "salario = float(input(\"Digite o salário atual: \"))\n",
    "\n",
    "if salario < 680:\n",
    "    print(\"Salário informado inválido, o valor mímimo deve ser 680.\")\n",
    "elif 680 <= salario <= 800:\n",
    "    percentual = \"15%\"\n",
    "    salario_reajustado = salario * 1.15\n",
    "elif 800 <= salario <= 2500:\n",
    "    percentual = \"10%\"\n",
    "    salario_reajustado = salario * 1.10\n",
    "else:\n",
    "    percentual = \"5%\"\n",
    "    salario_reajustado = salario * 1.05\n",
    "\n",
    "if salario > 680:\n",
    "    print()\n",
    "    print(f\"O salário antes do reajuste era R${salario:,.2f}\")\n",
    "    print(f\"O salário foi reajustado em {percentual}\")\n",
    "    print(f\"O valor do reajuste foi de R${(salario_reajustado - salario):,.2f}\")\n",
    "    print(f\"O salário após o reajuste era R${salario_reajustado:,.2f}\")"
   ]
  }
 ],
 "metadata": {
  "colab": {
   "name": "Fase2.ipynb",
   "provenance": []
  },
  "kernelspec": {
   "display_name": "Python 3 (ipykernel)",
   "language": "python",
   "name": "python3"
  },
  "language_info": {
   "codemirror_mode": {
    "name": "ipython",
    "version": 3
   },
   "file_extension": ".py",
   "mimetype": "text/x-python",
   "name": "python",
   "nbconvert_exporter": "python",
   "pygments_lexer": "ipython3",
   "version": "3.9.7"
  }
 },
 "nbformat": 4,
 "nbformat_minor": 1
}
