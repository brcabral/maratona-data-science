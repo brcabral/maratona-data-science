{
 "cells": [
  {
   "cell_type": "markdown",
   "id": "9e05bb0a",
   "metadata": {},
   "source": [
    "# Tratamento de erros e exceções\n",
    "\n",
    "Erros vão sempre vão acontecer e é importante que você os preveja e trate-os de sua aparição.\n",
    "\n",
    "**Erros mais comuns:**\n",
    "- IOError: Se o arquivo não puder ser aberto/salvo.\n",
    "- ImportError: Se o python não encontra o módulo\n",
    "- ValueError: Operação recebe valor inadequado\n",
    "- KeyboardInterrupt: Quando usuário clica DELETE ou CTRL+C\n",
    "- EOFError: Quando o input não recebe nenhum dado\n",
    "- TypeError: Erro de tipo para operação"
   ]
  },
  {
   "cell_type": "code",
   "execution_count": 7,
   "id": "486d73cd",
   "metadata": {
    "scrolled": true
   },
   "outputs": [
    {
     "name": "stdout",
     "output_type": "stream",
     "text": [
      "Digite um número: b\n"
     ]
    },
    {
     "ename": "TypeError",
     "evalue": "unsupported operand type(s) for /: 'str' and 'int'",
     "output_type": "error",
     "traceback": [
      "\u001b[0;31m---------------------------------------------------------------------------\u001b[0m",
      "\u001b[0;31mTypeError\u001b[0m                                 Traceback (most recent call last)",
      "\u001b[0;32m/tmp/ipykernel_9887/3398255604.py\u001b[0m in \u001b[0;36m<module>\u001b[0;34m\u001b[0m\n\u001b[1;32m      1\u001b[0m \u001b[0mx\u001b[0m \u001b[0;34m=\u001b[0m \u001b[0minput\u001b[0m\u001b[0;34m(\u001b[0m\u001b[0;34m\"Digite um número: \"\u001b[0m\u001b[0;34m)\u001b[0m\u001b[0;34m\u001b[0m\u001b[0;34m\u001b[0m\u001b[0m\n\u001b[0;32m----> 2\u001b[0;31m \u001b[0mprint\u001b[0m\u001b[0;34m(\u001b[0m\u001b[0mx\u001b[0m \u001b[0;34m/\u001b[0m \u001b[0;36m1\u001b[0m\u001b[0;34m)\u001b[0m\u001b[0;34m\u001b[0m\u001b[0;34m\u001b[0m\u001b[0m\n\u001b[0m",
      "\u001b[0;31mTypeError\u001b[0m: unsupported operand type(s) for /: 'str' and 'int'"
     ]
    }
   ],
   "source": [
    "x = input(\"Digite um número: \")\n",
    "print(x / 1)"
   ]
  },
  {
   "cell_type": "markdown",
   "id": "9f01b7a2",
   "metadata": {},
   "source": [
    "## Try / Except"
   ]
  },
  {
   "cell_type": "code",
   "execution_count": 8,
   "id": "14c8f056",
   "metadata": {},
   "outputs": [
    {
     "name": "stdout",
     "output_type": "stream",
     "text": [
      "Digite um número: b\n",
      "Tipo inválido!\n"
     ]
    }
   ],
   "source": [
    "# try -> tentar\n",
    "# exept -> exceção\n",
    "\n",
    "try:\n",
    "    x = input(\"Digite um número: \")\n",
    "    print(x / 1)\n",
    "except TypeError:\n",
    "    print(\"Tipo inválido!\")"
   ]
  },
  {
   "cell_type": "code",
   "execution_count": 9,
   "id": "7df192de",
   "metadata": {},
   "outputs": [
    {
     "name": "stdout",
     "output_type": "stream",
     "text": [
      "Digite um número inteiro: b\n",
      "O valor digitado não é um inteiro. Tente novamente\n",
      "Digite um número inteiro: 10.5\n",
      "O valor digitado não é um inteiro. Tente novamente\n",
      "Digite um número inteiro: 20\n",
      "Dividindo 100 por 20 teremos 5\n"
     ]
    }
   ],
   "source": [
    "while True:\n",
    "    try:\n",
    "        x = int(input(\"Digite um número inteiro: \"))\n",
    "        print(f\"Dividindo 100 por {x} teremos {int(100 / x)}\")\n",
    "        break\n",
    "    except ValueError:\n",
    "        print(\"O valor digitado não é um inteiro. Tente novamente\")"
   ]
  },
  {
   "cell_type": "markdown",
   "id": "a3005184",
   "metadata": {},
   "source": [
    "### Else"
   ]
  },
  {
   "cell_type": "code",
   "execution_count": 11,
   "id": "de3334ec",
   "metadata": {},
   "outputs": [
    {
     "name": "stdout",
     "output_type": "stream",
     "text": [
      "Digite um número inteiro: 25\n",
      "Dividindo 100 por 25 teremos 4\n",
      "Executado com sucesso!\n"
     ]
    }
   ],
   "source": [
    "try:\n",
    "    x = int(input(\"Digite um número inteiro: \"))\n",
    "    print(f\"Dividindo 100 por {x} teremos {int(100 / x)}\")\n",
    "except ValueError:\n",
    "    print(\"O valor digitado não é um inteiro. Tente novamente\")\n",
    "else:\n",
    "    print(\"Executado com sucesso!\")"
   ]
  },
  {
   "cell_type": "markdown",
   "id": "028d5b9a",
   "metadata": {},
   "source": [
    "### Finally"
   ]
  },
  {
   "cell_type": "code",
   "execution_count": 13,
   "id": "6c9358f2",
   "metadata": {},
   "outputs": [
    {
     "name": "stdout",
     "output_type": "stream",
     "text": [
      "Digite um número inteiro: b\n",
      "O valor digitado não é um inteiro. Tente novamente\n",
      "O finally executa o bloco havendo ou não exceções.\n",
      "Digite um número inteiro: 2\n",
      "Dividindo 100 por 2 teremos 50\n",
      "O finally executa o bloco havendo ou não exceções.\n"
     ]
    }
   ],
   "source": [
    "while True:\n",
    "    try:\n",
    "        x = int(input(\"Digite um número inteiro: \"))\n",
    "        print(f\"Dividindo 100 por {x} teremos {int(100 / x)}\")\n",
    "        break\n",
    "    except ValueError:\n",
    "        print(\"O valor digitado não é um inteiro. Tente novamente\")\n",
    "    finally:\n",
    "        print(\"O finally executa o bloco havendo ou não exceções.\")"
   ]
  },
  {
   "cell_type": "markdown",
   "id": "5005d80f",
   "metadata": {},
   "source": [
    "## Resumindo...\n",
    "\n",
    "**try:** seu código;<br>\n",
    "**except:** tratamento de erros;<br>\n",
    "**else:** executa quando não há erros;<br>\n",
    "**finally:** executa quando há ou não erros."
   ]
  },
  {
   "cell_type": "markdown",
   "id": "a765f9c6",
   "metadata": {},
   "source": [
    "## Exercícios"
   ]
  },
  {
   "cell_type": "markdown",
   "id": "4f6876fb",
   "metadata": {},
   "source": [
    "1. Crie um código em Python que solicite do usuário o input de um número inteiro. Caso haja preenchimento diferente, a máquina deve  guiar o usuário até ajustar sua resposta. (Fácil)"
   ]
  },
  {
   "cell_type": "code",
   "execution_count": 19,
   "id": "96073315",
   "metadata": {
    "scrolled": true
   },
   "outputs": [
    {
     "name": "stdout",
     "output_type": "stream",
     "text": [
      "Digite um número inteiro: b\n",
      "Tipo inválido! Digite novamente.\n",
      "Digite um número inteiro: 7\n",
      "O número digitado foi: 7\n"
     ]
    }
   ],
   "source": [
    "while True:\n",
    "    try:\n",
    "        numero = int(input(\"Digite um número inteiro: \"))\n",
    "        print(f\"O número digitado foi: {numero}\")\n",
    "        break\n",
    "    except ValueError:\n",
    "        print(\"Tipo inválido! Digite novamente.\")"
   ]
  },
  {
   "cell_type": "markdown",
   "id": "47969197",
   "metadata": {},
   "source": [
    "2. Crie um código em Python que solicite do usuário o input de 2 números inteiros e assim divida o primeiro número pelo segundo. Caso o input não seja um número inteiro, seu código deve guiar o usuário até o preenchimento correto. Caso o usuário preencha com 0,  que apresente mensagem falando sobre a indivisibilidade por zero. Caso o usuário não digite um número, informar que um número deve ser digitado. Em outros casos de erro, apresente ao usuário uma mensagem de erro inesperado. (Médio)"
   ]
  },
  {
   "cell_type": "code",
   "execution_count": 1,
   "id": "c399dfdc",
   "metadata": {},
   "outputs": [
    {
     "name": "stdout",
     "output_type": "stream",
     "text": [
      "Digite o primeiro número inteiro: b\n",
      "Tipo inválido! Digite novamente.\n",
      "Digite o primeiro número inteiro: 10\n",
      "Digite o segundo número inteiro: 0\n",
      "Não é possível dividir um número por zero.\n",
      "Digite o primeiro número inteiro: 10\n",
      "Digite o segundo número inteiro: 5\n",
      "O resultado da divisão de 10 por 5 é: 2.0\n"
     ]
    }
   ],
   "source": [
    "while True:\n",
    "    try:\n",
    "        num1 = int(input(\"Digite o primeiro número inteiro: \"))\n",
    "        num2 = int(input(\"Digite o segundo número inteiro: \"))\n",
    "        resultado = num1 / num2\n",
    "        print(f\"O resultado da divisão de {num1} por {num2} é: {resultado}\")\n",
    "        break\n",
    "    except ValueError:\n",
    "        print(\"Tipo inválido! Digite novamente.\")\n",
    "    except ZeroDivisionError:\n",
    "        print(\"Não é possível dividir um número por zero.\")\n",
    "    except:\n",
    "        print(\"Erro inesperado!\")"
   ]
  },
  {
   "cell_type": "markdown",
   "id": "47f96a51",
   "metadata": {},
   "source": [
    "3. Crie um código em Python que peça um número ímpar do usuário. Caso o número seja par, apresente mensagem guiando o usuário até o preenchimento correto. (Difícil)"
   ]
  },
  {
   "cell_type": "code",
   "execution_count": 17,
   "id": "9c5c0a6a",
   "metadata": {
    "scrolled": true
   },
   "outputs": [
    {
     "name": "stdout",
     "output_type": "stream",
     "text": [
      "Digite um número impar: 2\n",
      "Digite um número impar: 6\n",
      "Digite um número impar: 7\n",
      "Executado com sucesso!\n"
     ]
    }
   ],
   "source": [
    "numero = 2\n",
    "\n",
    "while numero % 2 == 0:\n",
    "    try:\n",
    "        numero = int(input(\"Digite um número impar: \"))\n",
    "        if numero % 2 != 0:\n",
    "            print(\"Executado com sucesso!\")\n",
    "            break\n",
    "    except:\n",
    "        if numero % 2 == 0:\n",
    "            print(\"O número digitado é par. Digite novamente.\")"
   ]
  },
  {
   "cell_type": "code",
   "execution_count": 18,
   "id": "265e76f8",
   "metadata": {},
   "outputs": [
    {
     "name": "stdout",
     "output_type": "stream",
     "text": [
      "Digite um número impar: 6\n",
      "O número digitado é par. Digite novamente.\n",
      "Digite um número impar: 4\n",
      "O número digitado é par. Digite novamente.\n",
      "Digite um número impar: 7\n",
      "Executado com sucesso!\n"
     ]
    }
   ],
   "source": [
    "numero = 2\n",
    "\n",
    "while numero % 2 == 0:\n",
    "    numero = int(input(\"Digite um número impar: \"))\n",
    "    if numero % 2 != 0:\n",
    "        print(\"Executado com sucesso!\")\n",
    "        break\n",
    "    else:\n",
    "        print(\"O número digitado é par. Digite novamente.\")"
   ]
  }
 ],
 "metadata": {
  "kernelspec": {
   "display_name": "Python 3 (ipykernel)",
   "language": "python",
   "name": "python3"
  },
  "language_info": {
   "codemirror_mode": {
    "name": "ipython",
    "version": 3
   },
   "file_extension": ".py",
   "mimetype": "text/x-python",
   "name": "python",
   "nbconvert_exporter": "python",
   "pygments_lexer": "ipython3",
   "version": "3.9.7"
  }
 },
 "nbformat": 4,
 "nbformat_minor": 5
}
