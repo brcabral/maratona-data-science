{
 "cells": [
  {
   "cell_type": "markdown",
   "id": "489912df",
   "metadata": {},
   "source": [
    "## **Operadores aritméticos**\n",
    "Simbolo | Descrição\n",
    ":------:|:----------------------------------------\n",
    "  +     | Soma (números) e Concatenação (Strings)\n",
    "  -     | Subtração\n",
    "  *     | Multiplicação\n",
    "  /     | Divisão\n",
    " **     | Exponenciação\n",
    " //     | Parte inteira da divisão\n",
    "  %     | Resto da divisão"
   ]
  },
  {
   "cell_type": "code",
   "execution_count": 23,
   "id": "60e7937c",
   "metadata": {},
   "outputs": [
    {
     "name": "stdout",
     "output_type": "stream",
     "text": [
      "6\n"
     ]
    }
   ],
   "source": [
    "# Soma de números\n",
    "print(5 + 1)"
   ]
  },
  {
   "cell_type": "code",
   "execution_count": 24,
   "id": "add270ce",
   "metadata": {},
   "outputs": [
    {
     "name": "stdout",
     "output_type": "stream",
     "text": [
      "chatbot\n"
     ]
    }
   ],
   "source": [
    "# Soma de strings\n",
    "print(\"chat\" + \"bot\")"
   ]
  },
  {
   "cell_type": "code",
   "execution_count": 25,
   "id": "6af7521b",
   "metadata": {},
   "outputs": [
    {
     "name": "stdout",
     "output_type": "stream",
     "text": [
      "100\n"
     ]
    }
   ],
   "source": [
    "# Subtração\n",
    "print(150 - 50)"
   ]
  },
  {
   "cell_type": "code",
   "execution_count": 26,
   "id": "35a25057",
   "metadata": {},
   "outputs": [
    {
     "name": "stdout",
     "output_type": "stream",
     "text": [
      "15\n"
     ]
    }
   ],
   "source": [
    "# Multiplicação\n",
    "print(5 * 3)"
   ]
  },
  {
   "cell_type": "code",
   "execution_count": 27,
   "id": "15f20141",
   "metadata": {},
   "outputs": [
    {
     "name": "stdout",
     "output_type": "stream",
     "text": [
      "33.333333333333336\n"
     ]
    }
   ],
   "source": [
    "# Divisão\n",
    "print(100 / 3)"
   ]
  },
  {
   "cell_type": "code",
   "execution_count": 28,
   "id": "a57433da",
   "metadata": {},
   "outputs": [
    {
     "name": "stdout",
     "output_type": "stream",
     "text": [
      "8\n"
     ]
    }
   ],
   "source": [
    "# Exponenciação\n",
    "print(2 ** 3)"
   ]
  },
  {
   "cell_type": "code",
   "execution_count": 29,
   "id": "721ac249",
   "metadata": {},
   "outputs": [
    {
     "name": "stdout",
     "output_type": "stream",
     "text": [
      "33\n"
     ]
    }
   ],
   "source": [
    "# Parte inteira da divisão\n",
    "print(100 // 3)"
   ]
  },
  {
   "cell_type": "code",
   "execution_count": 30,
   "id": "36e3b296",
   "metadata": {},
   "outputs": [
    {
     "name": "stdout",
     "output_type": "stream",
     "text": [
      "1\n"
     ]
    }
   ],
   "source": [
    "# Resto da divisão\n",
    "print(100 % 3)"
   ]
  },
  {
   "cell_type": "markdown",
   "id": "9cee1f1f",
   "metadata": {},
   "source": [
    "## **Regras de precedência(PEMDAS)**\n",
    "<br>**P**: de parênteses! tem a mais alta precedência e por isto, em casos onde houverem parênteses, estes cálculos serão realizados primeiro.\n",
    "<br>2 * (3 + 1) = 8\n",
    "<br>2 * 3 + 1 = 7\n",
    "<br><br>**E**: de exponenciação! possui a segunda precedência mais alta.\n",
    "<br>2 ** 1 + 1 = 3\n",
    "<br><br>**MDAS**: Multiplicação e Divisão são a terceira precedência mais alta, restando a adição e subtração em ultima posição na ordem de precedência.\n",
    "<br>2 * 3 - 1 = 5"
   ]
  },
  {
   "cell_type": "markdown",
   "id": "2ac75f82",
   "metadata": {},
   "source": [
    "## **Operadores lógicos**\n",
    "Simbolo | Descrição\n",
    ":------:|:----------------------------------------\n",
    "  >     | Maior\n",
    "  <     | Menor\n",
    "  >=    | Maior ou igual\n",
    "  <=    | Menor ou igual\n",
    "  ==    | Igual\n",
    "  !=    | Diferente"
   ]
  },
  {
   "cell_type": "code",
   "execution_count": 31,
   "id": "9ae5adfc",
   "metadata": {},
   "outputs": [
    {
     "name": "stdout",
     "output_type": "stream",
     "text": [
      "True\n"
     ]
    }
   ],
   "source": [
    "# Maior (>)\n",
    "print(10 > 0)"
   ]
  },
  {
   "cell_type": "code",
   "execution_count": 32,
   "id": "5880cc54",
   "metadata": {},
   "outputs": [
    {
     "name": "stdout",
     "output_type": "stream",
     "text": [
      "True\n"
     ]
    }
   ],
   "source": [
    "# Menor (<)\n",
    "print(0 < 10)"
   ]
  },
  {
   "cell_type": "code",
   "execution_count": 33,
   "id": "1879a248",
   "metadata": {},
   "outputs": [
    {
     "name": "stdout",
     "output_type": "stream",
     "text": [
      "True\n"
     ]
    }
   ],
   "source": [
    "# Maior ou igual (>=)\n",
    "print(10 >= 10)"
   ]
  },
  {
   "cell_type": "code",
   "execution_count": 34,
   "id": "a00ae18a",
   "metadata": {},
   "outputs": [
    {
     "name": "stdout",
     "output_type": "stream",
     "text": [
      "True\n"
     ]
    }
   ],
   "source": [
    "# Menor ou igual (<=)\n",
    "print(10 <= 20)"
   ]
  },
  {
   "cell_type": "code",
   "execution_count": 35,
   "id": "1077059f",
   "metadata": {},
   "outputs": [
    {
     "name": "stdout",
     "output_type": "stream",
     "text": [
      "True\n"
     ]
    }
   ],
   "source": [
    "# Igual (==)\n",
    "print(10 == 10)"
   ]
  },
  {
   "cell_type": "code",
   "execution_count": 36,
   "id": "3e2cf199",
   "metadata": {},
   "outputs": [
    {
     "name": "stdout",
     "output_type": "stream",
     "text": [
      "False\n"
     ]
    }
   ],
   "source": [
    "# Diferente (!=)\n",
    "print(10 != 10)"
   ]
  },
  {
   "cell_type": "markdown",
   "id": "67ad1707",
   "metadata": {},
   "source": [
    "## **Operador in**"
   ]
  },
  {
   "cell_type": "code",
   "execution_count": 37,
   "id": "98a4eaf9",
   "metadata": {},
   "outputs": [
    {
     "name": "stdout",
     "output_type": "stream",
     "text": [
      "True\n"
     ]
    }
   ],
   "source": [
    "# Operador IN verifica se o elemtno está contido na estrutura citada\n",
    "x = \"python\"\n",
    "print(\"p\" in x)"
   ]
  },
  {
   "cell_type": "markdown",
   "id": "ba6c5be0",
   "metadata": {},
   "source": [
    "## **EXERCÍCIOS**"
   ]
  },
  {
   "cell_type": "markdown",
   "id": "04d76c35",
   "metadata": {},
   "source": [
    "1.   Crie um algoritmo que solicite do usuário 2 números e apresente a soma de ambos (fácil)"
   ]
  },
  {
   "cell_type": "code",
   "execution_count": 38,
   "id": "e6ea2a39",
   "metadata": {},
   "outputs": [
    {
     "name": "stdout",
     "output_type": "stream",
     "text": [
      "Digite o primeiro número: 10\n",
      "Digite o segundo número: 5\n",
      "A soma dos números é: 15\n"
     ]
    }
   ],
   "source": [
    "num1 = int(input(\"Digite o primeiro número: \"))\n",
    "num2 = int(input(\"Digite o segundo número: \"))\n",
    "\n",
    "print(f\"A soma dos números é: {num1 + num2}\")"
   ]
  },
  {
   "cell_type": "markdown",
   "id": "72b96440",
   "metadata": {},
   "source": [
    "2.   Crie um algoritmo que solicite do usuário 2 números e apresente o intervalo númerico entre eles (médio)"
   ]
  },
  {
   "cell_type": "code",
   "execution_count": 39,
   "id": "552599a1",
   "metadata": {},
   "outputs": [
    {
     "name": "stdout",
     "output_type": "stream",
     "text": [
      "Digite o primeiro número: 5\n",
      "Digite o segundo número: 10\n",
      "5\n",
      "6\n",
      "7\n",
      "8\n",
      "9\n"
     ]
    }
   ],
   "source": [
    "num1 = int(input(\"Digite o primeiro número: \"))\n",
    "num2 = int(input(\"Digite o segundo número: \"))\n",
    "\n",
    "while(num1 < num2):\n",
    "    print(num1)\n",
    "    num1 += 1"
   ]
  },
  {
   "cell_type": "markdown",
   "id": "fa208884",
   "metadata": {},
   "source": [
    "3.   Crie um algoritmo que solicite do usuário 2 números e apresente o mínimo múltiplo comum(MMC) entre eles (difícil)\n",
    "\n",
    "https://escolakids.uol.com.br/matematica/minimo-multiplo-comum.htm"
   ]
  },
  {
   "cell_type": "code",
   "execution_count": 40,
   "id": "b6ed75a4",
   "metadata": {},
   "outputs": [
    {
     "name": "stdout",
     "output_type": "stream",
     "text": [
      "Digite o primeiro número: 5\n",
      "Digite o segundo número: 15\n",
      "O MMC de 5 e 15 é: 15\n"
     ]
    }
   ],
   "source": [
    "num1 = int(input(\"Digite o primeiro número: \"))\n",
    "num2 = int(input(\"Digite o segundo número: \"))\n",
    "\n",
    "i = 2\n",
    "mmc = 1\n",
    "tmp_num1 = num1\n",
    "tmp_num2 = num2\n",
    "\n",
    "while (tmp_num1 != 1 or tmp_num2 != 1):\n",
    "    if (tmp_num1 % i == 0 and tmp_num2 % i == 0):\n",
    "        tmp_num1 = tmp_num1 / i\n",
    "        tmp_num2 = tmp_num2 / i\n",
    "        mmc = mmc * i\n",
    "        i = 1\n",
    "    elif (tmp_num1 % i == 0):\n",
    "        tmp_num1 = tmp_num1 / i\n",
    "        mmc = mmc * i\n",
    "        i = 1\n",
    "    elif (tmp_num2 % i == 0):\n",
    "        tmp_num2 = tmp_num2 / i\n",
    "        mmc = mmc * i\n",
    "        i = 1\n",
    "\n",
    "    i += 1\n",
    "\n",
    "print(f\"O MMC de {num1} e {num2} é: {mmc}\")"
   ]
  }
 ],
 "metadata": {
  "kernelspec": {
   "display_name": "Python 3 (ipykernel)",
   "language": "python",
   "name": "python3"
  },
  "language_info": {
   "codemirror_mode": {
    "name": "ipython",
    "version": 3
   },
   "file_extension": ".py",
   "mimetype": "text/x-python",
   "name": "python",
   "nbconvert_exporter": "python",
   "pygments_lexer": "ipython3",
   "version": "3.9.7"
  }
 },
 "nbformat": 4,
 "nbformat_minor": 5
}
