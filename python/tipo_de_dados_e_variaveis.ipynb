{
 "cells": [
  {
   "cell_type": "markdown",
   "id": "08c2d0a0",
   "metadata": {},
   "source": [
    "# **Variáveis**\n",
    "\n",
    "Utiliza o símbolo = para declarar variáveis em Python"
   ]
  },
  {
   "cell_type": "markdown",
   "id": "cf5f0f72",
   "metadata": {},
   "source": [
    "## **Tipos de Dados**"
   ]
  },
  {
   "cell_type": "code",
   "execution_count": 20,
   "id": "6ec0e9df",
   "metadata": {},
   "outputs": [
    {
     "name": "stdout",
     "output_type": "stream",
     "text": [
      "<class 'int'>\n"
     ]
    }
   ],
   "source": [
    "# Inteiro\n",
    "a = 1\n",
    "print(type(a))"
   ]
  },
  {
   "cell_type": "code",
   "execution_count": 21,
   "id": "b5dc3178",
   "metadata": {},
   "outputs": [
    {
     "name": "stdout",
     "output_type": "stream",
     "text": [
      "<class 'float'>\n"
     ]
    }
   ],
   "source": [
    "# Floating\n",
    "b = 3.14\n",
    "print(type(b))"
   ]
  },
  {
   "cell_type": "code",
   "execution_count": 22,
   "id": "ae9fc732",
   "metadata": {},
   "outputs": [
    {
     "name": "stdout",
     "output_type": "stream",
     "text": [
      "<class 'str'>\n"
     ]
    }
   ],
   "source": [
    "# String\n",
    "c = \"Python\"\n",
    "print(type(c))"
   ]
  },
  {
   "cell_type": "code",
   "execution_count": 23,
   "id": "bfdc3690",
   "metadata": {},
   "outputs": [
    {
     "name": "stdout",
     "output_type": "stream",
     "text": [
      "<class 'bool'>\n"
     ]
    }
   ],
   "source": [
    "# Booleanos\n",
    "d = True\n",
    "print(type(d))"
   ]
  },
  {
   "cell_type": "markdown",
   "id": "72ed5170",
   "metadata": {},
   "source": [
    "## **Convertendo os tipos**"
   ]
  },
  {
   "cell_type": "code",
   "execution_count": 24,
   "id": "ca89db16",
   "metadata": {},
   "outputs": [
    {
     "name": "stdout",
     "output_type": "stream",
     "text": [
      "3 <class 'int'>\n"
     ]
    }
   ],
   "source": [
    "e = int(b)\n",
    "print(e, type(e))"
   ]
  },
  {
   "cell_type": "code",
   "execution_count": 25,
   "id": "3e00c561",
   "metadata": {},
   "outputs": [
    {
     "name": "stdout",
     "output_type": "stream",
     "text": [
      "1.0 <class 'float'>\n"
     ]
    }
   ],
   "source": [
    "f = float(a)\n",
    "print(f, type(f))"
   ]
  },
  {
   "cell_type": "code",
   "execution_count": 26,
   "id": "0bf5476b",
   "metadata": {},
   "outputs": [
    {
     "name": "stdout",
     "output_type": "stream",
     "text": [
      "1 <class 'str'>\n"
     ]
    }
   ],
   "source": [
    "g = str(a)\n",
    "print(g, type(g))## **Convertendo os tipos**"
   ]
  },
  {
   "cell_type": "markdown",
   "id": "bb7f0bb6",
   "metadata": {},
   "source": [
    "## **Comentários**"
   ]
  },
  {
   "cell_type": "code",
   "execution_count": 27,
   "id": "b941c85b",
   "metadata": {},
   "outputs": [],
   "source": [
    "# Após hashtag, todo o conteúdo da linha torna-se desabilitado para execução;"
   ]
  },
  {
   "cell_type": "code",
   "execution_count": 28,
   "id": "f6b11e85",
   "metadata": {},
   "outputs": [
    {
     "data": {
      "text/plain": [
       "'\\nCaso prefira mais espaço para comentar, utilize 3 aspas (simples ou dupla)\\ntendo todo o conteúdo entre as aspas comentado e não executado pela máquina;\\n'"
      ]
     },
     "execution_count": 28,
     "metadata": {},
     "output_type": "execute_result"
    }
   ],
   "source": [
    "\"\"\"\n",
    "Caso prefira mais espaço para comentar, utilize 3 aspas (simples ou dupla)\n",
    "tendo todo o conteúdo entre as aspas comentado e não executado pela máquina;\n",
    "\"\"\""
   ]
  }
 ],
 "metadata": {
  "kernelspec": {
   "display_name": "Python 3 (ipykernel)",
   "language": "python",
   "name": "python3"
  },
  "language_info": {
   "codemirror_mode": {
    "name": "ipython",
    "version": 3
   },
   "file_extension": ".py",
   "mimetype": "text/x-python",
   "name": "python",
   "nbconvert_exporter": "python",
   "pygments_lexer": "ipython3",
   "version": "3.9.7"
  }
 },
 "nbformat": 4,
 "nbformat_minor": 5
}
